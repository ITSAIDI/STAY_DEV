{
 "cells": [
  {
   "cell_type": "markdown",
   "metadata": {},
   "source": [
    "# Collecting"
   ]
  },
  {
   "cell_type": "markdown",
   "metadata": {},
   "source": [
    "## Videos Metadata"
   ]
  },
  {
   "cell_type": "code",
   "execution_count": 3,
   "metadata": {},
   "outputs": [],
   "source": [
    "from dotenv import load_dotenv\n",
    "import os\n",
    "from googleapiclient.discovery import build\n",
    "import scrapetube\n",
    "from tqdm import tqdm\n",
    "import json\n",
    "from colorama import Fore, Style, init\n",
    "\n",
    "\n",
    "load_dotenv() \n",
    "init()"
   ]
  },
  {
   "cell_type": "code",
   "execution_count": 4,
   "metadata": {},
   "outputs": [],
   "source": [
    "youtube = build(\"youtube\", \"v3\", developerKey=os.getenv(\"YOUTUBE_API_KEY\"))"
   ]
  },
  {
   "cell_type": "code",
   "execution_count": 5,
   "metadata": {},
   "outputs": [],
   "source": [
    "# getvideo_details() structers the Youtube API response\n",
    "\n",
    "def getvideo_details(video_id):\n",
    "    request = youtube.videos().list(part='snippet,contentDetails', id=video_id)\n",
    "    response = request.execute()\n",
    "    videoMetadata = {\n",
    "        'id_video': response['items'][0]['id'],\n",
    "        'id_chaine':response['items'][0]['snippet']['channelId'],\n",
    "        'titre_video': response['items'][0]['snippet']['title'],\n",
    "        'description':response['items'][0]['snippet']['description'],\n",
    "        'date_publication':response['items'][0]['snippet']['publishedAt'],\n",
    "        'duree': response['items'][0]['contentDetails']['duration'],\n",
    "        'miniature':'',\n",
    "        'tags':'',\n",
    "        'langue':'',\n",
    "        'youtubeCategorie':response['items'][0]['snippet']['categoryId'],\n",
    "    }\n",
    "    \n",
    "    ################# get the highest resolution thumbnail\n",
    "    resolution_order = [\"maxres\", \"standard\", \"high\", \"medium\", \"default\"]\n",
    "    for res in resolution_order:\n",
    "        if res in response['items'][0]['snippet']['thumbnails']:\n",
    "            videoMetadata['miniature']= response['items'][0]['snippet']['thumbnails'][res]['url']\n",
    "            break\n",
    "    \n",
    "    if 'tags' in response['items'][0]['snippet']:\n",
    "        videoMetadata['tags']= response['items'][0]['snippet']['tags']\n",
    "        \n",
    "    if 'defaultAudioLanguage'in response['items'][0]['snippet']:\n",
    "        videoMetadata['langue']= response['items'][0]['snippet']['defaultAudioLanguage']\n",
    "        \n",
    "    return videoMetadata\n",
    "\n",
    "def getVideosId(listVideos):\n",
    "    ids = []\n",
    "    for videoDic in listVideos:\n",
    "        ids.append(videoDic['id_video'])\n",
    "    return ids \n",
    "   \n",
    "# updateVideos() updates the videos json file with the new videos\n",
    "\n",
    "def updateVideos(videosMetadata):\n",
    "    \n",
    "    print(Style.BRIGHT + Fore.GREEN + '\\n Updating...')\n",
    "    \n",
    "    with open(\"../jsons/videos.json\", \"r\", encoding=\"utf-8\") as file:\n",
    "        videos = json.load(file)\n",
    "        ids = getVideosId(videos)\n",
    "                \n",
    "    if len(videos) == 0:\n",
    "        videos.extend(videosMetadata)\n",
    "    else:\n",
    "        for video in videosMetadata:\n",
    "            id = video['id_video']\n",
    "            query = video['requete'][0]\n",
    "            if id in ids:\n",
    "                ###### Select the video dicionary by using the id\n",
    "                videoDicionary = videos[ids.index(id)]\n",
    "                videoDicionary['requete'].append(query)\n",
    "            else:\n",
    "                videos.append(video)\n",
    "                   \n",
    "    ################ Saving       \n",
    "    with open(\"../jsons/videos.json\", \"w\", encoding=\"utf-8\") as f:\n",
    "        print(Style.BRIGHT + Fore.YELLOW + f'\\n Actual Nbr videos : {len(videos)}')\n",
    "        print(Style.BRIGHT + Fore.GREEN + '\\n Saving videos...')\n",
    "        json.dump(videos, f, ensure_ascii=False, indent=2) \n",
    "  \n",
    "# scrapeVideos() scrapes the videos given a query as input\n",
    "      \n",
    "def scrapeVideos(query,max_results):\n",
    "    print(Style.BRIGHT + Fore.GREEN + '\\nScraping Videos...')\n",
    "    ############################## Scrapetube returns the videos ids relevant to a search query\n",
    "    videoIds = []\n",
    "    searchResults = list(scrapetube.get_search(query,limit=max_results,sort_by='relevance',results_type='video'))\n",
    "    for result in searchResults:\n",
    "        videoIds.append(result['videoId'])\n",
    "        \n",
    "    ############################## Youtube API to featch the video metadata given the ID as input\n",
    "    videosMetadata = []\n",
    "    for videoid in videoIds:\n",
    "        videodata = getvideo_details(videoid)\n",
    "        videodata['requete']=[query]\n",
    "        videosMetadata.append(videodata)\n",
    "    \n",
    "    ############################## Update the json\n",
    "    updateVideos(videosMetadata) \n",
    "\n",
    "    print(Style.RESET_ALL)\n"
   ]
  },
  {
   "cell_type": "code",
   "execution_count": null,
   "metadata": {},
   "outputs": [],
   "source": []
  },
  {
   "cell_type": "code",
   "execution_count": null,
   "metadata": {},
   "outputs": [],
   "source": []
  },
  {
   "cell_type": "markdown",
   "metadata": {},
   "source": [
    "# Vocabulary Augmentation"
   ]
  },
  {
   "cell_type": "markdown",
   "metadata": {},
   "source": [
    "## Modèles de Embeddings"
   ]
  },
  {
   "cell_type": "markdown",
   "metadata": {},
   "source": [
    "- L'idée est de chercher les mots proches sémantiquement des termes primaires ou secondaires que nous avons déjà en utilisant les embeddings de ces termes.  \n",
    "- On peut faire cela avec plusieurs embedders, qui ont également utile pour une extension sémantique par exemple :  Word2Vec, BERT, Glove..."
   ]
  },
  {
   "cell_type": "markdown",
   "metadata": {},
   "source": [
    "### fasttext"
   ]
  },
  {
   "cell_type": "markdown",
   "metadata": {},
   "source": [
    "pip install fasttext==0.9.3\n",
    "\n",
    "wget https://dl.fbaipublicfiles.com/fasttext/vectors-crawl/cc.fr.300.bin.gz\n",
    "\n",
    "gunzip cc.fr.300.bin.gz"
   ]
  },
  {
   "cell_type": "code",
   "execution_count": null,
   "metadata": {},
   "outputs": [],
   "source": [
    "! wget https://dl.fbaipublicfiles.com/fasttext/vectors-crawl/cc.fr.300.bin.gz"
   ]
  },
  {
   "cell_type": "code",
   "execution_count": null,
   "metadata": {},
   "outputs": [],
   "source": [
    "! gunzip cc.fr.300.bin.gz"
   ]
  },
  {
   "cell_type": "code",
   "execution_count": null,
   "metadata": {},
   "outputs": [],
   "source": [
    "import fasttext\n",
    "\n",
    "modelFastext = fasttext.load_model(\"/teamspace/studios/this_studio/cc.fr.300.bin\") \n",
    "\n",
    "keywords = [\"Vie en autarcie\", \"Autosuffisance\", \"Fermentation\",\"Poêle de masse\"]\n",
    "\n",
    "for keyword in keywords:\n",
    "    similar_words = modelFastext.get_nearest_neighbors(keyword, k=3)\n",
    "    print(f\"Expansions pour '{keyword}': {similar_words} \\n\")"
   ]
  },
  {
   "cell_type": "markdown",
   "metadata": {},
   "source": [
    "### Word2Vec"
   ]
  },
  {
   "cell_type": "markdown",
   "metadata": {},
   "source": [
    "pip install gensim==4.3.3"
   ]
  },
  {
   "cell_type": "markdown",
   "metadata": {},
   "source": [
    "#### Google News model"
   ]
  },
  {
   "cell_type": "code",
   "execution_count": null,
   "metadata": {},
   "outputs": [],
   "source": [
    "import gensim.downloader as api\n",
    "\n",
    "modelGoogleNews = api.load(\"word2vec-google-news-300\") \n",
    "similar_words = modelGoogleNews.most_similar(\"fermentation\", topn=3)\n",
    "print(f\"Similar words to 'fermentation': {similar_words}\")"
   ]
  },
  {
   "cell_type": "markdown",
   "metadata": {},
   "source": [
    "#### Embedder-FrWac corpus, 1.6 billion words."
   ]
  },
  {
   "cell_type": "code",
   "execution_count": null,
   "metadata": {},
   "outputs": [],
   "source": [
    "! wget https://embeddings.net/embeddings/frWac_non_lem_no_postag_no_phrase_200_cbow_cut0.bin"
   ]
  },
  {
   "cell_type": "code",
   "execution_count": null,
   "metadata": {},
   "outputs": [],
   "source": [
    "from gensim.models import KeyedVectors\n",
    "\n",
    "model_path = 'frWac_non_lem_no_postag_no_phrase_200_cbow_cut0.bin'\n",
    "modelFrench = KeyedVectors.load_word2vec_format(model_path, binary=True, unicode_errors=\"ignore\")\n",
    "\n",
    "mots = [\"Autosuffisance\", \"Autonomie\", \"Vie en autarcie\", \"Potager\", \"Filtre Berkey\", \"Permaculture\", \n",
    "\"Filtre Doulton\", \"Poêle à bois bouilleur\", \"Poêle de masse\", \"Cuve eau pluie\", \"Maison terre-paille\", \n",
    "\"Maison torchis\", \"Ferme en pierre\", \"Maraîchage\", \"Culture lasagnes\", \"Aquaponie\", \"Agroforesterie\", \n",
    "\"Forage manuel\", \"Puits artésien\", \"Filtration naturelle\", \"Biogaz maison\", \"Kerterre\", \n",
    "\"Fermentation\", \"Fumage\"]\n",
    "\n",
    "mots_present = 0\n",
    "mots_absent = 0\n",
    "mots_similaires = []\n",
    "\n",
    "for mot in mots:\n",
    "    mot_processed = mot.replace(\" \", \"_\")\n",
    "    if mot_processed in modelFrench:\n",
    "        mots_present += 1\n",
    "        similar_words = modelFrench.most_similar(mot_processed, topn=3)\n",
    "        mots_similaires.append((mot, similar_words))\n",
    "    else:\n",
    "        mots_absent += 1\n",
    "        print(f\"Mot absent dans le modèle : {mot}\")\n",
    "\n",
    "pourcentage_absents = (mots_absent / len(mots)) * 100\n",
    "print(f\"\\nPourcentage de mots absents : {pourcentage_absents:.2f}%\")\n",
    "\n",
    "for mot, similar_words in mots_similaires:\n",
    "    print(f\"\\nMots similaires à '{mot}':\")\n",
    "    for word, similarity in similar_words:\n",
    "        print(f\"  {word}: {similarity:.4f}\")\n"
   ]
  },
  {
   "cell_type": "code",
   "execution_count": null,
   "metadata": {},
   "outputs": [],
   "source": [
    "import matplotlib.pyplot as plt\n",
    "\n",
    "labels = ['Mots présents', 'Mots absents']\n",
    "sizes = [mots_present, mots_absent]\n",
    "colors = ['#66b3ff', '#ff6666']\n",
    "explode = (0.1, 0)\n",
    "\n",
    "plt.figure(figsize=(7,7))\n",
    "plt.pie(sizes, explode=explode, labels=labels, colors=colors, autopct='%1.1f%%', shadow=True, startangle=140)\n",
    "plt.axis('equal')\n",
    "plt.title('Répartition des mots présents et absents dans le vocabulaire')\n",
    "plt.show()"
   ]
  },
  {
   "cell_type": "markdown",
   "metadata": {},
   "source": [
    "#### Embedder-FrWiki, 600 millions words."
   ]
  },
  {
   "cell_type": "code",
   "execution_count": null,
   "metadata": {},
   "outputs": [],
   "source": [
    "! wget https://embeddings.net/embeddings/frWiki_no_lem_no_postag_no_phrase_1000_cbow_cut100.bin"
   ]
  },
  {
   "cell_type": "code",
   "execution_count": null,
   "metadata": {},
   "outputs": [],
   "source": [
    "from gensim.models import KeyedVectors\n",
    "\n",
    "model_path = 'frWiki_no_lem_no_postag_no_phrase_1000_cbow_cut100.bin'\n",
    "modelFrench = KeyedVectors.load_word2vec_format(model_path, binary=True, unicode_errors=\"ignore\")\n",
    "\n",
    "mots = [\"Autosuffisance\", \"Autonomie\", \"Vie en autarcie\", \"Potager\", \"Filtre Berkey\", \"Permaculture\", \n",
    "\"Filtre Doulton\", \"Poêle à bois bouilleur\", \"Poêle de masse\", \"Cuve eau pluie\", \"Maison terre-paille\", \n",
    "\"Maison torchis\", \"Ferme en pierre\", \"Maraîchage\", \"Culture lasagnes\", \"Aquaponie\", \"Agroforesterie\", \n",
    "\"Forage manuel\", \"Puits artésien\", \"Filtration naturelle\", \"Biogaz maison\", \"Kerterre\", \n",
    "\"Fermentation\", \"Fumage\"]\n",
    "\n",
    "mots_present = 0\n",
    "mots_absent = 0\n",
    "mots_similaires = []\n",
    "\n",
    "for mot in mots:\n",
    "    mot_processed = mot.replace(\" \", \"_\")\n",
    "    if mot_processed in modelFrench:\n",
    "        mots_present += 1\n",
    "        similar_words = modelFrench.most_similar(mot_processed, topn=3)\n",
    "        mots_similaires.append((mot, similar_words))\n",
    "    else:\n",
    "        mots_absent += 1\n",
    "        print(f\"Mot absent du modèle : {mot}\")\n",
    "\n",
    "pourcentage_absents = (mots_absent / len(mots)) * 100\n",
    "print(f\"\\nPourcentage de mots absents : {pourcentage_absents:.2f}%\")\n",
    "\n",
    "for mot, similar_words in mots_similaires:\n",
    "    print(f\"\\nMots similaires à '{mot}':\")\n",
    "    for word, similarity in similar_words:\n",
    "        print(f\"  {word}: {similarity:.4f}\")\n"
   ]
  },
  {
   "cell_type": "code",
   "execution_count": null,
   "metadata": {},
   "outputs": [],
   "source": [
    "import matplotlib.pyplot as plt\n",
    "\n",
    "labels = ['Mots présents', 'Mots absents']\n",
    "sizes = [mots_present, mots_absent]\n",
    "colors = ['#66b3ff', '#ff6666']\n",
    "explode = (0.1, 0)\n",
    "\n",
    "plt.figure(figsize=(7,7))\n",
    "plt.pie(sizes, explode=explode, labels=labels, colors=colors, autopct='%1.1f%%', shadow=True, startangle=140)\n",
    "plt.axis('equal')\n",
    "plt.title('Répartition des mots présents et absents pour Embedder-frWiki')\n",
    "plt.show()"
   ]
  },
  {
   "cell_type": "markdown",
   "metadata": {},
   "source": [
    "# Discovering Plots on Collected Data"
   ]
  },
  {
   "cell_type": "code",
   "execution_count": null,
   "metadata": {},
   "outputs": [],
   "source": [
    "import json \n",
    "\n",
    "with open(\"../jsons/videos.json\", \"r\", encoding=\"utf-8\") as file:\n",
    "    videos = json.load(file)\n",
    "    print(len(videos))"
   ]
  },
  {
   "cell_type": "code",
   "execution_count": null,
   "metadata": {},
   "outputs": [],
   "source": [
    "import random\n",
    "\n",
    "echantillon = random.sample(videos, min(1000, len(videos)))\n",
    "with open(\"../jsons/echantillon.json\", \"w\", encoding=\"utf-8\") as f:\n",
    "    json.dump(echantillon, f, ensure_ascii=False, indent=2)"
   ]
  },
  {
   "cell_type": "markdown",
   "metadata": {},
   "source": [
    "## Plots for Vidoes data"
   ]
  },
  {
   "cell_type": "code",
   "execution_count": null,
   "metadata": {},
   "outputs": [],
   "source": [
    "import json\n",
    "with open(\"../jsons/echantillon.json\", \"r\", encoding=\"utf-8\") as f:\n",
    "    echantillon = json.load(f)"
   ]
  },
  {
   "cell_type": "code",
   "execution_count": null,
   "metadata": {},
   "outputs": [],
   "source": [
    "import matplotlib.pyplot as plt\n",
    "from collections import Counter\n",
    "\n",
    "categorie_labels = {\n",
    "    1: \"Film & Animation\", 2: \"Autos & Vehicles\", 10: \"Music\", 15: \"Pets & Animals\", 17: \"Sports\",\n",
    "    18: \"Short Movies\", 19: \"Travel & Events\", 20: \"Gaming\", 21: \"Videoblogging\", 22: \"People & Blogs\",\n",
    "    23: \"Comedy\", 24: \"Entertainment\", 25: \"News & Politics\", 26: \"Howto & Style\", 27: \"Education\",\n",
    "    28: \"Science & Technology\", 30: \"Movies\", 31: \"Anime/Animation\", 32: \"Action/Adventure\", 33: \"Classics\",\n",
    "    34: \"Comedy\", 35: \"Documentary\", 36: \"Drama\", 37: \"Family\", 38: \"Foreign\", 39: \"Horror\",\n",
    "    40: \"Sci-Fi/Fantasy\", 41: \"Thriller\", 42: \"Shorts\", 43: \"Shows\", 44: \"Trailers\"\n",
    "}\n",
    "\n",
    "compteur_categories = {i: 0 for i in categorie_labels.keys()}\n",
    "\n",
    "for video in echantillon:\n",
    "    cat = video.get(\"youtubeCategorie\")\n",
    "    if cat and cat.isdigit():\n",
    "        cat_id = int(cat)\n",
    "        if cat_id in compteur_categories:\n",
    "            compteur_categories[cat_id] += 1\n",
    "\n",
    "# Filtrage des catégories avec au moins 1 vidéo\n",
    "filtre = [(i, compteur_categories[i]) for i in compteur_categories if compteur_categories[i] > 0]\n",
    "\n",
    "# Calcul des pourcentages et tri décroissant\n",
    "total = sum(freq for _, freq in filtre)\n",
    "trié = sorted(filtre, key=lambda x: x[1], reverse=True)\n",
    "labels = [f\"{i} - {categorie_labels[i]}\" for i, _ in trié]\n",
    "frequences = [freq for _, freq in trié]\n",
    "\n",
    "plt.figure(figsize=(18, 8))\n",
    "bars = plt.bar(labels, frequences, color=\"#028ae4\")\n",
    "plt.xlabel(\"Catégories YouTube\")\n",
    "plt.ylabel(\"Nombre de vidéos\")\n",
    "plt.title(\"Nombre de vidéos par catégorie YouTube (échantillon trié)\")\n",
    "plt.xticks(rotation=90)\n",
    "\n",
    "for bar, freq in zip(bars, frequences):\n",
    "    pourcentage = (freq/1000)*100\n",
    "    plt.text(bar.get_x() + bar.get_width() / 2, bar.get_height() + 2, f\"{pourcentage:.1f}%\", \n",
    "             ha='center', va='bottom', fontsize=9)\n",
    "\n",
    "plt.tight_layout()\n",
    "plt.show()\n"
   ]
  },
  {
   "cell_type": "code",
   "execution_count": null,
   "metadata": {},
   "outputs": [],
   "source": [
    "import matplotlib.pyplot as plt\n",
    "import numpy as np\n",
    "\n",
    "\n",
    "def word_count(description):\n",
    "    return len(description.split())\n",
    "\n",
    "word_counts = [word_count(video['description']) for video in echantillon]\n",
    "\n",
    "quartiles = np.percentile(word_counts, [25, 50, 75])\n",
    "min_value = np.min(word_counts)\n",
    "max_value = np.max(word_counts)\n",
    "\n",
    "plt.figure(figsize=(10, 6))\n",
    "plt.boxplot(word_counts, vert=True, patch_artist=True, boxprops=dict(facecolor=\"skyblue\", color=\"blue\"))\n",
    "\n",
    "plt.xlabel('Nombre de mots', fontsize=12)\n",
    "plt.title('Boxplot des longueurs de description', fontsize=14)\n",
    "\n",
    "plt.text(1.15, min_value, f\"Min: {min_value}\", fontsize=12, verticalalignment='center')\n",
    "plt.text(1.15, quartiles[0], f\"25th percentile: {quartiles[0]}\", fontsize=12, verticalalignment='center')\n",
    "plt.text(1.15, quartiles[1], f\"Median: {quartiles[1]}\", fontsize=12, verticalalignment='center')\n",
    "plt.text(1.15, quartiles[2], f\"75th percentile: {quartiles[2]}\", fontsize=12, verticalalignment='center')\n",
    "plt.text(1.15, max_value, f\"Max: {max_value}\", fontsize=12, verticalalignment='center')\n",
    "\n",
    "plt.show()\n"
   ]
  },
  {
   "cell_type": "code",
   "execution_count": null,
   "metadata": {},
   "outputs": [],
   "source": [
    "import json\n",
    "import matplotlib.pyplot as plt\n",
    "\n",
    "# Charger les données JSON depuis le fichier\n",
    "with open(\"../jsons/echantillon.json\", \"r\", encoding=\"utf-8\") as f:\n",
    "    echantillon = json.load(f)\n",
    "\n",
    "# Fonction pour calculer le nombre de mots dans la description\n",
    "def word_count(description):\n",
    "    return len(description.split())\n",
    "\n",
    "# Obtenir le nombre de mots pour chaque description\n",
    "word_counts = [word_count(video['description']) for video in echantillon]\n",
    "\n",
    "# Définir les intervalles et initialiser un dictionnaire pour compter les vidéos dans chaque intervalle\n",
    "intervals = {\n",
    "    'moins de 10': 0,\n",
    "    '10-50': 0,\n",
    "    '50-100': 0,\n",
    "    '100-200': 0,\n",
    "    '200-500': 0,\n",
    "    'plus de 500': 0\n",
    "}\n",
    "\n",
    "# Remplir le dictionnaire avec les comptages pour chaque intervalle\n",
    "for word_count_value in word_counts:\n",
    "    if word_count_value < 10:\n",
    "        intervals['moins de 10'] += 1\n",
    "    elif 10 <= word_count_value < 50:\n",
    "        intervals['10-50'] += 1\n",
    "    elif 50 <= word_count_value < 100:\n",
    "        intervals['50-100'] += 1\n",
    "    elif 100 <= word_count_value < 200:\n",
    "        intervals['100-200'] += 1\n",
    "    elif 200 <= word_count_value < 500:\n",
    "        intervals['200-500'] += 1\n",
    "    else:\n",
    "        intervals['plus de 500'] += 1\n",
    "\n",
    "# Calculer le nombre total de vidéos\n",
    "total_videos = sum(intervals.values())\n",
    "\n",
    "# Créer l'histogramme à partir du dictionnaire\n",
    "plt.figure(figsize=(10, 6))\n",
    "bars = plt.bar(intervals.keys(), intervals.values(), color='skyblue', edgecolor='black')\n",
    "\n",
    "# Ajouter les labels et le titre\n",
    "plt.xlabel('Plage de nombre de mots', fontsize=12)\n",
    "plt.ylabel('Nombre de vidéos', fontsize=12)\n",
    "plt.title('Histogramme du nombre de vidéos par plage de longueur de description', fontsize=14)\n",
    "\n",
    "# Ajouter les pourcentages au-dessus de chaque barre\n",
    "for bar in bars:\n",
    "    height = bar.get_height()\n",
    "    percentage = (height / total_videos) * 100\n",
    "    plt.text(bar.get_x() + bar.get_width() / 2, height + 0.2, f'{percentage:.1f}%', \n",
    "             ha='center', va='bottom', fontsize=10)\n",
    "\n",
    "# Afficher l'histogramme\n",
    "plt.show()\n"
   ]
  },
  {
   "cell_type": "code",
   "execution_count": null,
   "metadata": {},
   "outputs": [],
   "source": [
    "import json\n",
    "import pandas as pd\n",
    "\n",
    "# Charger les données JSON depuis le fichier\n",
    "with open(\"../jsons/echantillon.json\", \"r\", encoding=\"utf-8\") as f:\n",
    "    echantillon = json.load(f)\n",
    "\n",
    "# Charger les noms des chaînes depuis le fichier JSON sauvegardé\n",
    "with open(\"../jsons/channel_names.json\", \"r\", encoding=\"utf-8\") as f:\n",
    "    channel_names = json.load(f)\n",
    "\n",
    "# Comptabiliser le nombre de vidéos par chaîne\n",
    "video_count_per_channel = {}\n",
    "for video in echantillon:\n",
    "    channel_id = video['id_chaine']\n",
    "    video_count_per_channel[channel_id] = video_count_per_channel.get(channel_id, 0) + 1\n",
    "\n",
    "# Remplacer les IDs de chaînes par leurs noms\n",
    "channel_video_counts = {channel_names.get(channel_id, \"Nom non trouvé\"): count for channel_id, count in video_count_per_channel.items()}\n",
    "\n",
    "# Convertir en DataFrame pour un affichage sous forme de table\n",
    "df_channel_video_counts = pd.DataFrame(list(channel_video_counts.items()), columns=[\"Nom de la chaîne\", \"Nombre de vidéos\"])\n",
    "\n",
    "# Trier les données par nombre de vidéos (en ordre décroissant)\n",
    "df_channel_video_counts = df_channel_video_counts.sort_values(by=\"Nombre de vidéos\", ascending=False)\n",
    "\n",
    "# Sauvegarder la table dans un fichier Excel (sans l'argument 'encoding')\n",
    "df_channel_video_counts.to_excel(\"../xls/channel_video_counts.xlsx\", index=False)\n",
    "\n",
    "print(\"Le fichier Excel a été sauvegardé sous 'channel_video_counts.xlsx'\")\n"
   ]
  },
  {
   "cell_type": "code",
   "execution_count": null,
   "metadata": {},
   "outputs": [],
   "source": [
    "import json\n",
    "import pandas as pd\n",
    "import re\n",
    "\n",
    "# Charger les données JSON depuis le fichier\n",
    "with open(\"../jsons/echantillon.json\", \"r\", encoding=\"utf-8\") as f:\n",
    "    echantillon = json.load(f)\n",
    "\n",
    "# Fonction pour convertir la durée en minutes\n",
    "def parse_duration(duration):\n",
    "    pattern = r\"PT(\\d+H)?(\\d+M)?(\\d+S)?\"\n",
    "    match = re.match(pattern, duration)\n",
    "    \n",
    "    hours = int(match.group(1)[:-1]) if match.group(1) else 0\n",
    "    minutes = int(match.group(2)[:-1]) if match.group(2) else 0\n",
    "    seconds = int(match.group(3)[:-1]) if match.group(3) else 0\n",
    "    \n",
    "    # Conversion totale en minutes\n",
    "    return (hours * 60) + minutes + (seconds / 60)\n",
    "\n",
    "# Ajouter une colonne pour la durée en minutes dans les données\n",
    "for video in echantillon:\n",
    "    video['duree_minutes'] = parse_duration(video['duree'])\n",
    "\n",
    "# Créer un DataFrame à partir des données\n",
    "df = pd.DataFrame(echantillon)\n",
    "\n",
    "# Obtenir un résumé statistique des durées des vidéos en minutes\n",
    "stats = df['duree_minutes'].describe()\n",
    "\n",
    "# Convertir les statistiques en DataFrame avec les en-têtes horizontaux\n",
    "stats_df = stats.to_frame().T  # `.T` pour transposer les statistiques en ligne\n",
    "\n",
    "# Sauvegarder les statistiques dans un fichier Excel\n",
    "output_file = \"../xls/statistiques_videos.xlsx\"\n",
    "stats_df.to_excel(output_file, index=False)\n",
    "\n",
    "print(f\"Les statistiques ont été enregistrées dans {output_file}\")\n"
   ]
  },
  {
   "cell_type": "code",
   "execution_count": null,
   "metadata": {},
   "outputs": [],
   "source": [
    "import json\n",
    "import pandas as pd\n",
    "import re\n",
    "import matplotlib.pyplot as plt\n",
    "\n",
    "# Charger les données JSON depuis le fichier\n",
    "with open(\"../jsons/echantillon.json\", \"r\", encoding=\"utf-8\") as f:\n",
    "    echantillon = json.load(f)\n",
    "\n",
    "# Fonction pour convertir la durée en minutes\n",
    "def parse_duration(duration):\n",
    "    pattern = r\"PT(\\d+H)?(\\d+M)?(\\d+S)?\"\n",
    "    match = re.match(pattern, duration)\n",
    "    \n",
    "    hours = int(match.group(1)[:-1]) if match.group(1) else 0\n",
    "    minutes = int(match.group(2)[:-1]) if match.group(2) else 0\n",
    "    seconds = int(match.group(3)[:-1]) if match.group(3) else 0\n",
    "    \n",
    "    # Conversion totale en minutes\n",
    "    return (hours * 60) + minutes + (seconds / 60)\n",
    "\n",
    "# Ajouter une colonne pour la durée en minutes dans les données\n",
    "for video in echantillon:\n",
    "    video['duree_minutes'] = parse_duration(video['duree'])\n",
    "\n",
    "# Créer un DataFrame à partir des données\n",
    "df = pd.DataFrame(echantillon)\n",
    "\n",
    "# Définir les plages de durées\n",
    "bins = [0, 1, 5, 10, 30, 60, float('inf')]\n",
    "labels = ['< 1 min', '1-5 min', '5-10 min', '10-30 min', '30-60 min', '> 60 min']\n",
    "\n",
    "# Créer une nouvelle colonne pour les plages de durée\n",
    "df['plage_duree'] = pd.cut(df['duree_minutes'], bins=bins, labels=labels, right=False)\n",
    "\n",
    "# Compter le nombre de vidéos dans chaque plage de durée\n",
    "count_by_range = df['plage_duree'].value_counts().sort_index()\n",
    "\n",
    "# Calculer le pourcentage de vidéos dans chaque plage\n",
    "total_videos = len(df)\n",
    "percent_by_range = (count_by_range / total_videos) * 100\n",
    "\n",
    "# Créer un histogramme\n",
    "plt.figure(figsize=(10, 6))\n",
    "ax = count_by_range.plot(kind='barh', color='skyblue',edgecolor='black')\n",
    "\n",
    "# Ajouter les pourcentages au-dessus de chaque barre\n",
    "for index, value in enumerate(count_by_range):\n",
    "    percentage = percent_by_range[index]\n",
    "    ax.text(value + 0.1, index, f'{percentage:.1f}%', va='center', ha='left', color='black')\n",
    "\n",
    "# Ajouter les labels et titre\n",
    "plt.xlabel('Nombre de vidéos')\n",
    "plt.ylabel('Plages de durée')\n",
    "plt.title('Répartition des vidéos par plage de durée')\n",
    "plt.xticks(rotation=0)\n",
    "\n",
    "# Afficher le graphique\n",
    "plt.show()\n"
   ]
  },
  {
   "cell_type": "code",
   "execution_count": null,
   "metadata": {},
   "outputs": [],
   "source": [
    "import json\n",
    "import pandas as pd\n",
    "\n",
    "# Charger les données JSON depuis le fichier\n",
    "with open(\"../jsons/echantillon.json\", \"r\", encoding=\"utf-8\") as f:\n",
    "    echantillon = json.load(f)\n",
    "\n",
    "# Extraire toutes les tags dans une liste\n",
    "all_tags = []\n",
    "\n",
    "for video in echantillon:\n",
    "    tags = video.get('tags', [])\n",
    "    if isinstance(tags, list):\n",
    "        all_tags.extend(tags)\n",
    "\n",
    "# Créer un DataFrame à partir des tags\n",
    "tags_df = pd.DataFrame(all_tags, columns=['tag'])\n",
    "\n",
    "# Compter la fréquence de chaque tag\n",
    "tag_counts = tags_df['tag'].value_counts().reset_index()\n",
    "tag_counts.columns = ['tag', 'frequency']\n",
    "\n",
    "# Trier la table par fréquence en ordre décroissant\n",
    "tag_counts_sorted = tag_counts.sort_values(by='frequency', ascending=False)\n",
    "\n",
    "# Sauvegarder le résultat dans un fichier Excel\n",
    "tag_counts_sorted.to_excel('tag_frequencies.xlsx', index=False)\n",
    "\n",
    "print(\"Tableau des fréquences des tags sauvegardé dans 'tag_frequencies.xlsx'\")\n"
   ]
  },
  {
   "cell_type": "code",
   "execution_count": null,
   "metadata": {},
   "outputs": [],
   "source": [
    "import json\n",
    "import pandas as pd\n",
    "from wordcloud import WordCloud\n",
    "import matplotlib.pyplot as plt\n",
    "\n",
    "# Charger les données JSON depuis le fichier\n",
    "with open(\"../jsons/echantillon.json\", \"r\", encoding=\"utf-8\") as f:\n",
    "    echantillon = json.load(f)\n",
    "\n",
    "# Extraire toutes les tags dans une liste\n",
    "all_tags = []\n",
    "\n",
    "for video in echantillon:\n",
    "    tags = video.get('tags', [])\n",
    "    if isinstance(tags, list):\n",
    "        all_tags.extend(tags)\n",
    "\n",
    "# Créer un DataFrame à partir des tags\n",
    "tags_df = pd.DataFrame(all_tags, columns=['tag'])\n",
    "\n",
    "# Compter la fréquence de chaque tag\n",
    "tag_counts = tags_df['tag'].value_counts()\n",
    "\n",
    "# Créer un dictionnaire des tags et de leur fréquence pour la word cloud\n",
    "tag_frequencies = tag_counts.to_dict()\n",
    "\n",
    "# Générer le nuage de mots (word cloud)\n",
    "wordcloud = WordCloud(width=1200, height=800, background_color='white').generate_from_frequencies(tag_frequencies)\n",
    "\n",
    "# Afficher le nuage de mots\n",
    "plt.figure(figsize=(10, 6))\n",
    "plt.imshow(wordcloud, interpolation='bilinear')\n",
    "plt.axis(\"off\")  # Masquer les axes\n",
    "plt.show()\n"
   ]
  },
  {
   "cell_type": "code",
   "execution_count": null,
   "metadata": {},
   "outputs": [],
   "source": [
    "import json\n",
    "import pandas as pd\n",
    "from collections import Counter\n",
    "\n",
    "# Charger les fichiers JSON\n",
    "with open(\"../jsons/videos.json\", \"r\", encoding=\"utf-8\") as f:\n",
    "    videos = json.load(f)\n",
    "\n",
    "# Compteur pour les requêtes\n",
    "query_counter = Counter()\n",
    "\n",
    "# Parcourir les vidéos et compter les occurrences des requêtes\n",
    "for video in videos:\n",
    "    if 'requete' in video:\n",
    "        for query in video['requete']:\n",
    "            query_counter[query] += 1\n",
    "\n",
    "# Trier les requêtes par fréquence décroissante\n",
    "sorted_queries = sorted(query_counter.items(), key=lambda x: x[1], reverse=True)\n",
    "\n",
    "# Créer un DataFrame avec les résultats\n",
    "df = pd.DataFrame(sorted_queries, columns=[\"Requete\", \"Nombre d'Occurrences\"])\n",
    "\n",
    "# Sauvegarder le DataFrame dans un fichier Excel\n",
    "df.to_excel(\"../xls/requetes_triees.xlsx\", index=False)\n",
    "\n",
    "print(\"Les requêtes ont été sauvegardées dans le fichier 'requetes_triees.xlsx'.\")\n"
   ]
  },
  {
   "cell_type": "code",
   "execution_count": null,
   "metadata": {},
   "outputs": [],
   "source": [
    "import json\n",
    "from collections import defaultdict\n",
    "\n",
    "with open(\"../../jsons/videos.json\", \"r\", encoding=\"utf-8\") as f:\n",
    "    videos = json.load(f)\n",
    "\n",
    "lang_count = defaultdict(int)\n",
    "\n",
    "for video in videos:\n",
    "    lang = video.get(\"langue\", \"unknown\")\n",
    "    lang_count[lang] += 1\n",
    "\n",
    "print(f\"Nombre total de vidéos : {len(videos)}\\n\")\n",
    "print(\"Répartition par langue :\")\n",
    "for lang, count in lang_count.items():\n",
    "    print(f\"{lang} : {count}\")\n"
   ]
  },
  {
   "cell_type": "code",
   "execution_count": null,
   "metadata": {},
   "outputs": [],
   "source": [
    "from langdetect import detect\n",
    "detect(\"🌱 Lacampagne est un #Ecolieu développé par David Lecoufle qui propose une #agriculture\")"
   ]
  },
  {
   "cell_type": "code",
   "execution_count": null,
   "metadata": {},
   "outputs": [],
   "source": []
  },
  {
   "cell_type": "markdown",
   "metadata": {},
   "source": [
    "## Plots for Channels data"
   ]
  },
  {
   "cell_type": "code",
   "execution_count": null,
   "metadata": {},
   "outputs": [],
   "source": [
    "import json\n",
    "import matplotlib.pyplot as plt\n",
    "import numpy as np\n",
    "import pandas as pd"
   ]
  },
  {
   "cell_type": "code",
   "execution_count": null,
   "metadata": {},
   "outputs": [],
   "source": [
    "with open(\"../../jsons/channels.json\", \"r\", encoding=\"utf-8\") as f:\n",
    "    channels = json.load(f)\n",
    "len(channels)"
   ]
  },
  {
   "cell_type": "code",
   "execution_count": null,
   "metadata": {},
   "outputs": [],
   "source": [
    "with open(\"../../jsons/channelsMetrics.json\", \"r\", encoding=\"utf-8\") as f:\n",
    "    channelsMetrics = json.load(f)\n",
    "len(channelsMetrics)"
   ]
  },
  {
   "cell_type": "markdown",
   "metadata": {},
   "source": [
    "### 1. Localisation plot"
   ]
  },
  {
   "cell_type": "code",
   "execution_count": null,
   "metadata": {},
   "outputs": [],
   "source": [
    "import matplotlib.pyplot as plt\n",
    "\n",
    "locations = [channel.get('localisation', '').strip() for channel in channels if 'localisation' in channel]\n",
    "counts = {'FR': 0, 'Inconnue': 0, 'Autre': 0}\n",
    "for loc in locations:\n",
    "    if loc == 'FR':\n",
    "        counts['FR'] += 1\n",
    "    elif loc == '':\n",
    "        counts['Inconnue'] += 1\n",
    "    else:\n",
    "        counts['Autre'] += 1\n",
    "\n",
    "labels = ['France', 'Inconnue', 'Autre']\n",
    "sizes = [counts['FR'], counts['Inconnue'], counts['Autre']]\n",
    "\n",
    "colors = ['#4A90E2', '#7BADE2', '#A6C8E2']\n",
    "\n",
    "plt.figure(figsize=(6, 6))\n",
    "wedges, texts, autotexts = plt.pie(sizes, labels=labels, colors=colors, autopct='%1.1f%%', startangle=140)\n",
    "\n",
    "for text in texts:\n",
    "    text.set_fontweight('bold')\n",
    "    text.set_fontsize(12)\n",
    "for autotext in autotexts:\n",
    "    autotext.set_fontweight('bold')\n",
    "    autotext.set_fontsize(12)\n",
    "\n",
    "plt.title('Répartition des localisations des chaînes YouTube', fontsize=12, fontweight='bold')\n",
    "plt.axis('equal')\n",
    "plt.show()\n"
   ]
  },
  {
   "cell_type": "markdown",
   "metadata": {},
   "source": [
    "– « Autre » regroupe tous les autres pays en dehors de la France, comme les États-Unis, le Canada, la Chine, etc.\n",
    "- un porcentage  tres importtnat des chaines non francaise doivent etre filtré"
   ]
  },
  {
   "cell_type": "markdown",
   "metadata": {},
   "source": [
    "### 2. Bio plot"
   ]
  },
  {
   "cell_type": "code",
   "execution_count": null,
   "metadata": {},
   "outputs": [],
   "source": [
    "bio_lengths = [len(channel.get('bio', '').strip().split()) for channel in channels]\n",
    "\n",
    "plt.figure(figsize=(8, 5))\n",
    "plt.boxplot(bio_lengths, patch_artist=True, boxprops=dict(facecolor='#4A90E2'))\n",
    "\n",
    "min_val = np.min(bio_lengths)\n",
    "q1 = np.percentile(bio_lengths, 25)\n",
    "median = np.median(bio_lengths)\n",
    "q3 = np.percentile(bio_lengths, 75)\n",
    "max_val = np.max(bio_lengths)\n",
    "\n",
    "plt.title(\"Distribution du nombre de mots dans les bios des chaînes\")\n",
    "plt.ylabel(\"Nombre de mots\")\n",
    "plt.grid(True)\n",
    "\n",
    "plt.text(1.2, min_val, f'Min: {min_val}', horizontalalignment='center')\n",
    "plt.text(1.2, q1, f'Q1: {q1}', horizontalalignment='center')\n",
    "plt.text(1.2, median, f'Median: {median}', horizontalalignment='center')\n",
    "plt.text(1.2, q3, f'Q3: {q3}', horizontalalignment='center')\n",
    "plt.text(1.2, max_val, f'Max: {max_val}', horizontalalignment='center')\n",
    "\n",
    "plt.show()\n"
   ]
  },
  {
   "cell_type": "code",
   "execution_count": null,
   "metadata": {},
   "outputs": [],
   "source": [
    "df = pd.DataFrame(bio_lengths, columns=['bio_length'])\n",
    "\n",
    "bins = [0, 1, 10, 50, 100, float('inf')]\n",
    "labels = ['Pas de description', '0-10', '10-50', '50-100', '>100']\n",
    "df['bio_range'] = pd.cut(df['bio_length'], bins=bins, labels=labels, right=False)\n",
    "\n",
    "count_by_range = df['bio_range'].value_counts().sort_index()\n",
    "total_bios = len(df)\n",
    "percent_by_range = (count_by_range / total_bios) * 100\n",
    "\n",
    "plt.figure(figsize=(10, 6))\n",
    "ax = count_by_range.plot(kind='barh', color='skyblue', edgecolor='black')\n",
    "\n",
    "for index, value in enumerate(count_by_range):\n",
    "    percentage = percent_by_range[index]\n",
    "    ax.text(value + 2, index, f'{percentage:.1f}%', va='center', ha='left', color='black', fontweight='bold')\n",
    "\n",
    "plt.xlabel('Nombre de chaînes', fontweight='bold')\n",
    "plt.ylabel('Plages de longueur de bio (Nombre mots)', fontweight='bold')\n",
    "plt.title('Répartition des chaînes par longueur de bio', fontweight='bold')\n",
    "plt.xticks(rotation=0, fontweight='bold')\n",
    "plt.yticks(fontweight='bold')\n",
    "\n",
    "plt.show()\n"
   ]
  },
  {
   "cell_type": "markdown",
   "metadata": {},
   "source": [
    "- Pourcentage important dss chaines sans bio (20%) donc le filtrage sementque ne marche pas"
   ]
  },
  {
   "cell_type": "markdown",
   "metadata": {},
   "source": [
    "### 2. Subscribers plot"
   ]
  },
  {
   "cell_type": "code",
   "execution_count": null,
   "metadata": {},
   "outputs": [],
   "source": [
    "abonne_counts = [channel['nombre_abonnes'] for channel in channelsMetrics]\n",
    "\n",
    "plt.figure(figsize=(8, 5))\n",
    "plt.boxplot(abonne_counts, patch_artist=True, boxprops=dict(facecolor='#4A90E2'))\n",
    "\n",
    "min_val = np.min(abonne_counts)\n",
    "q1 = np.percentile(abonne_counts, 25)\n",
    "median = np.median(abonne_counts)\n",
    "q3 = np.percentile(abonne_counts, 75)\n",
    "max_val = np.max(abonne_counts)\n",
    "\n",
    "plt.title(\"Distribution du nombre d'abonnés des chaînes\")\n",
    "plt.xlabel(\"Nombre d'abonnés\")\n",
    "plt.grid(True)\n",
    "\n",
    "plt.text(1, min_val, f'Min: {min_val}', horizontalalignment='center')\n",
    "plt.text(1, q1, f'Q1: {q1}', horizontalalignment='center')\n",
    "plt.text(1, median, f'Median: {median}', horizontalalignment='center')\n",
    "plt.text(1, q3, f'Q3: {q3}', horizontalalignment='center')\n",
    "plt.text(1, max_val, f'Max: {max_val}', horizontalalignment='center')\n",
    "\n",
    "plt.show()\n"
   ]
  },
  {
   "cell_type": "code",
   "execution_count": null,
   "metadata": {},
   "outputs": [],
   "source": [
    "import pandas as pd\n",
    "import numpy as np\n",
    "import matplotlib.pyplot as plt\n",
    "\n",
    "abonne_counts = [channel['nombre_abonnes'] for channel in channelsMetrics]\n",
    "\n",
    "bins = [0, 10, 100, 1000, 100000, float('inf')]\n",
    "labels = ['<10', '10-100', '100-1000', '1000-100000', '>100000']\n",
    "\n",
    "df = pd.DataFrame(abonne_counts, columns=['abonne_count'])\n",
    "df['abonne_range'] = pd.cut(df['abonne_count'], bins=bins, labels=labels, right=False)\n",
    "\n",
    "count_by_range = df['abonne_range'].value_counts().sort_index()\n",
    "total_channels = len(df)\n",
    "percent_by_range = (count_by_range / total_channels) * 100\n",
    "\n",
    "plt.figure(figsize=(10, 6))\n",
    "ax = count_by_range.plot(kind='barh', color='skyblue', edgecolor='black')\n",
    "\n",
    "for index, value in enumerate(count_by_range):\n",
    "    percentage = percent_by_range[index]\n",
    "    ax.text(value + 2, index, f'{percentage:.1f}%', va='center', ha='left', color='black', fontweight='bold')\n",
    "\n",
    "plt.xlabel('Nombre de chaînes', fontweight='bold')\n",
    "plt.ylabel('Plages de nombre d\\'abonnés', fontweight='bold')\n",
    "plt.title('Répartition des chaînes par nombre d\\'abonnés', fontweight='bold')\n",
    "plt.xticks(rotation=0, fontweight='bold')\n",
    "plt.yticks(fontweight='bold')\n",
    "\n",
    "plt.show()\n"
   ]
  },
  {
   "cell_type": "code",
   "execution_count": 5,
   "metadata": {},
   "outputs": [
    {
     "data": {
      "text/plain": [
       "0.8436018957345972"
      ]
     },
     "execution_count": 5,
     "metadata": {},
     "output_type": "execute_result"
    }
   ],
   "source": [
    "178/211"
   ]
  },
  {
   "cell_type": "code",
   "execution_count": 10,
   "metadata": {},
   "outputs": [
    {
     "data": {
      "text/plain": [
       "202"
      ]
     },
     "execution_count": 10,
     "metadata": {},
     "output_type": "execute_result"
    }
   ],
   "source": [
    "24+178"
   ]
  },
  {
   "cell_type": "code",
   "execution_count": 8,
   "metadata": {},
   "outputs": [
    {
     "data": {
      "text/plain": [
       "244"
      ]
     },
     "execution_count": 8,
     "metadata": {},
     "output_type": "execute_result"
    }
   ],
   "source": [
    "72-12+135-75+198-138+261-201+4"
   ]
  },
  {
   "cell_type": "code",
   "execution_count": null,
   "metadata": {},
   "outputs": [],
   "source": [
    "video_counts = [channel['nombre_videos'] for channel in channelsMetrics]\n",
    "\n",
    "bins = [0, 10, 50, 100, 200, float('inf')]\n",
    "labels = ['<10', '10-50', '50-100', '100-200', '>200']\n",
    "\n",
    "df = pd.DataFrame(video_counts, columns=['video_count'])\n",
    "df['video_range'] = pd.cut(df['video_count'], bins=bins, labels=labels, right=False)\n",
    "\n",
    "count_by_range = df['video_range'].value_counts().sort_index()\n",
    "total_channels = len(df)\n",
    "percent_by_range = (count_by_range / total_channels) * 100\n",
    "\n",
    "plt.figure(figsize=(10, 6))\n",
    "ax = count_by_range.plot(kind='barh', color='skyblue', edgecolor='black')\n",
    "\n",
    "for index, value in enumerate(count_by_range):\n",
    "    percentage = percent_by_range[index]\n",
    "    ax.text(value + 2, index, f'{percentage:.1f}%', va='center', ha='left', color='black', fontweight='bold')\n",
    "\n",
    "plt.xlabel('Nombre de chaînes', fontweight='bold')\n",
    "plt.ylabel('Plages de nombre de vidéos', fontweight='bold')\n",
    "plt.title('Répartition des chaînes par nombre de vidéos', fontweight='bold')\n",
    "plt.xticks(rotation=0, fontweight='bold')\n",
    "plt.yticks(fontweight='bold')\n",
    "\n",
    "plt.show()\n"
   ]
  },
  {
   "cell_type": "markdown",
   "metadata": {},
   "source": [
    "# Shorts Analyzing"
   ]
  },
  {
   "cell_type": "code",
   "execution_count": 4,
   "metadata": {},
   "outputs": [],
   "source": [
    "import json\n",
    "\n",
    "with open(\"../jsons/shorts.json\", \"r\", encoding=\"utf-8\") as file:\n",
    "    shorts = json.load(file)"
   ]
  },
  {
   "cell_type": "code",
   "execution_count": 9,
   "metadata": {},
   "outputs": [
    {
     "data": {
      "text/plain": [
       "732"
      ]
     },
     "execution_count": 9,
     "metadata": {},
     "output_type": "execute_result"
    }
   ],
   "source": [
    "len(shorts)"
   ]
  },
  {
   "cell_type": "markdown",
   "metadata": {},
   "source": [
    "- Shorts With likn in the description "
   ]
  },
  {
   "cell_type": "code",
   "execution_count": null,
   "metadata": {},
   "outputs": [],
   "source": [
    "import re\n",
    "\n",
    "url_pattern = re.compile(r'https?://\\S+')\n",
    "shorts_with_links = []\n",
    "\n",
    "for video in shorts:\n",
    "    description = video.get(\"description\", \"\")\n",
    "    if url_pattern.search(description):\n",
    "        shorts_with_links.append(video)\n",
    "\n",
    "with open(\"../jsons/shorts_with_links.json\", \"w\", encoding=\"utf-8\") as outfile:\n",
    "    json.dump(shorts_with_links, outfile, indent=2, ensure_ascii=False)\n",
    "\n",
    "print(f\"{len(shorts_with_links)} shorts\")\n"
   ]
  },
  {
   "cell_type": "code",
   "execution_count": 5,
   "metadata": {},
   "outputs": [
    {
     "name": "stdout",
     "output_type": "stream",
     "text": [
      "Les liens ont été extraits et ajoutés avec succès.\n"
     ]
    }
   ],
   "source": [
    "import json\n",
    "import re\n",
    "\n",
    "with open('../jsons/shorts_with_links.json', 'r', encoding='utf-8') as file:\n",
    "    shorts_with_links = json.load(file)\n",
    "\n",
    "def extract_links(description):\n",
    "    return re.findall(r'https?://\\S+', description)\n",
    "\n",
    "for video in shorts_with_links:\n",
    "    links = extract_links(video['description'])\n",
    "    video['links'] = links\n",
    "\n",
    "with open('../jsons/shorts_with_links.json', 'w', encoding='utf-8') as file:\n",
    "    json.dump(shorts_with_links, file, indent=4, ensure_ascii=False)\n",
    "\n",
    "print(\"Les liens ont été extraits et ajoutés avec succès.\")\n"
   ]
  },
  {
   "cell_type": "code",
   "execution_count": 8,
   "metadata": {},
   "outputs": [
    {
     "data": {
      "text/plain": [
       "229"
      ]
     },
     "execution_count": 8,
     "metadata": {},
     "output_type": "execute_result"
    }
   ],
   "source": [
    "len(shorts_with_links)"
   ]
  },
  {
   "cell_type": "code",
   "execution_count": 7,
   "metadata": {},
   "outputs": [
    {
     "name": "stdout",
     "output_type": "stream",
     "text": [
      "Nombre de shorts contenant un lien vers une autre vidéo YouTube : 17\n"
     ]
    }
   ],
   "source": [
    "import json\n",
    "import re\n",
    "\n",
    "with open('../jsons/shorts_with_links.json', 'r', encoding='utf-8') as file:\n",
    "    shorts_with_links = json.load(file)\n",
    "\n",
    "def contains_youtube_link(links):\n",
    "    return any(re.search(r'https://youtu\\.be/\\S+', link) for link in links)\n",
    "\n",
    "count_youtube_links = sum(1 for video in shorts_with_links if contains_youtube_link(video['links']))\n",
    "\n",
    "print(f\"Nombre de shorts contenant un lien vers une autre vidéo YouTube : {count_youtube_links}\")\n"
   ]
  },
  {
   "cell_type": "code",
   "execution_count": 23,
   "metadata": {},
   "outputs": [
    {
     "data": {
      "image/png": "[encoded data removed]",
      "text/plain": [
       "<Figure size 1200x600 with 1 Axes>"
      ]
     },
     "metadata": {},
     "output_type": "display_data"
    }
   ],
   "source": [
    "import matplotlib.pyplot as plt\n",
    "\n",
    "# Données\n",
    "total_shorts = 732\n",
    "shorts_with_links = 229\n",
    "shorts_with_youtube_links = 17\n",
    "shorts_with_other_links = shorts_with_links - shorts_with_youtube_links\n",
    "\n",
    "# Pourcentages pour le deuxième camembert\n",
    "youtube_link_pct = (shorts_with_youtube_links / shorts_with_links) * 100\n",
    "other_links_pct = (shorts_with_other_links / shorts_with_links) * 100\n",
    "\n",
    "# Couleurs\n",
    "colors1 = ['#66b3ff', \"#f9a2a2\"]\n",
    "colors2 = ['#99ff99', '#ffcc99']\n",
    "\n",
    "plt.figure(figsize=(12, 6))\n",
    "\n",
    "# Camembert 1 : Shorts avec/sans lien\n",
    "wedges1, texts1, autotexts1 = plt.pie(\n",
    "    [shorts_with_links, total_shorts - shorts_with_links],\n",
    "    labels=['Avec lien', 'Sans lien'],\n",
    "    autopct='%1.1f%%',\n",
    "    startangle=90,\n",
    "    colors=colors1\n",
    ")\n",
    "# Mettre les labels et les pourcentages en gras\n",
    "for text in texts1:\n",
    "    text.set_fontweight('bold')\n",
    "    text.set_fontsize(20)\n",
    "for autotext in autotexts1:\n",
    "    autotext.set_fontweight('bold')\n",
    "    autotext.set_fontsize(20)\n",
    "\n",
    "#plt.title('Proportion de Shorts avec ou sans lien', fontsize=20, fontweight='bold')"
   ]
  },
  {
   "cell_type": "code",
   "execution_count": 22,
   "metadata": {},
   "outputs": [
    {
     "data": {
      "image/png": "[encoded data removed]",
      "text/plain": [
       "<Figure size 640x480 with 1 Axes>"
      ]
     },
     "metadata": {},
     "output_type": "display_data"
    }
   ],
   "source": [
    "\n",
    "# Camembert 2 : Types de lien parmi les 229 avec lien\n",
    "wedges2, texts2, autotexts2 = plt.pie(\n",
    "    [shorts_with_youtube_links, shorts_with_other_links],\n",
    "    labels=['Lien vers vidéo YouTube', 'Autres liens'],\n",
    "    autopct='%1.1f%%',\n",
    "    startangle=90,\n",
    "    colors=colors2\n",
    ")\n",
    "# Mettre les pourcentages en gras\n",
    "for autotext in autotexts2:\n",
    "    autotext.set_fontweight('bold')\n",
    "    autotext.set_fontsize(20)\n",
    "\n",
    "#plt.title('Répartition des types de liens (parmi les 31,3 %)', fontsize=20, fontweight='bold')\n",
    "\n",
    "# Ajuster la taille des labels du deuxième camembert\n",
    "plt.setp(plt.gca().texts, fontweight='bold', fontsize=20)\n",
    "\n",
    "plt.tight_layout()\n",
    "plt.show()\n"
   ]
  },
  {
   "cell_type": "markdown",
   "metadata": {},
   "source": [
    "- Shorts Without likn in the description "
   ]
  },
  {
   "cell_type": "code",
   "execution_count": 31,
   "metadata": {},
   "outputs": [
    {
     "name": "stdout",
     "output_type": "stream",
     "text": [
      "24\n",
      "['france2', 'france3', 'france4', 'france5', 'franceinfobfmtv', 'c8', 'cstar', 'gulli', 'cnews', 'canal+', 'planète+', 'lci', 'parispremière', '6ter', 'arte', 'm6', 'w9', 'tfx', 'tmc', 'nrj12', 'tf1', 'lachaîneparlementaire', 'chérie25', 'rmc']\n"
     ]
    }
   ],
   "source": [
    "chainesTv = [\n",
    "    \"France 2\", \"France 3\", \"France 4\",\"France 5\",\"Franceinfo\"\n",
    "    \"BFMTV\", \"C8\", \"CStar\", \"Gulli\", \"Cnews\",\n",
    "    \"Canal+\", \"Planète+\", \"LCI\", \"Paris première\",\n",
    "    \"6ter\", \"Arte\", \"M6\", \"W9\",\n",
    "    \"TFX\", \"TMC\", \"NRJ12\", \"TF1\",\"La Chaîne parlementaire\",\n",
    "    \"Chérie 25\", \"RMC\"\n",
    "]\n",
    "chainesTv = [nomTV.lower().replace(\" \", \"\") for nomTV in chainesTv]\n",
    "\n",
    "print(len(chainesTv))\n",
    "print(chainesTv)"
   ]
  },
  {
   "cell_type": "code",
   "execution_count": null,
   "metadata": {},
   "outputs": [],
   "source": [
    "import json\n",
    "import re\n",
    "\n",
    "with open('../jsons/shorts.json', 'r', encoding='utf-8') as file:\n",
    "    shorts = json.load(file)\n",
    "\n",
    "def extract_links(description):\n",
    "    return re.findall(r'https?://\\S+', description)\n",
    "\n",
    "shorts_without_links = [video for video in shorts if not extract_links(video['description'])]\n",
    "\n",
    "with open('../jsons/shorts_without_links.json', 'w', encoding='utf-8') as file:\n",
    "    json.dump(shorts_without_links, file, indent=4, ensure_ascii=False)\n",
    "\n",
    "print(f\"{len(shorts_without_links)} shorts sans lien ont été extraits.\")\n"
   ]
  },
  {
   "cell_type": "code",
   "execution_count": null,
   "metadata": {},
   "outputs": [],
   "source": [
    "import matplotlib.pyplot as plt\n",
    "\n",
    "categories = ['Tutoriel', 'Vlog rapide', 'Autre', 'Short explicatif']\n",
    "counts = [149, 93, 165, 96]\n",
    "\n",
    "plt.figure(figsize=(7, 7))\n",
    "wedges, texts, autotexts = plt.pie(counts, labels=categories, autopct='%1.1f%%', startangle=90, colors=['#66b3ff', '#99ff99', '#ffcc99', '#ff6666'])\n",
    "\n",
    "# Mettre tout le texte en gras\n",
    "for text in texts:\n",
    "    text.set_fontweight('bold')\n",
    "    text.set_fontsize(14)\n",
    "for autotext in autotexts:\n",
    "    autotext.set_fontweight('bold')\n",
    "    autotext.set_fontsize(14)\n",
    "\n",
    "plt.title('Video Categories Distribution', fontsize=16, fontweight='bold')\n",
    "plt.axis('equal')  # Equal aspect ratio ensures that pie chart is drawn as a circle.\n",
    "\n",
    "plt.show()\n"
   ]
  },
  {
   "cell_type": "code",
   "execution_count": null,
   "metadata": {},
   "outputs": [],
   "source": []
  },
  {
   "cell_type": "code",
   "execution_count": null,
   "metadata": {},
   "outputs": [],
   "source": []
  }
 ],
 "metadata": {
  "kernelspec": {
   "display_name": "agrotube",
   "language": "python",
   "name": "python3"
  },
  "language_info": {
   "codemirror_mode": {
    "name": "ipython",
    "version": 3
   },
   "file_extension": ".py",
   "mimetype": "text/x-python",
   "name": "python",
   "nbconvert_exporter": "python",
   "pygments_lexer": "ipython3",
   "version": "3.10.16"
  }
 },
 "nbformat": 4,
 "nbformat_minor": 2
}
