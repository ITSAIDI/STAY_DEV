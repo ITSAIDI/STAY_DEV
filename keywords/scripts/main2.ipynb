{
 "cells": [
  {
   "cell_type": "code",
   "execution_count": 1,
   "id": "983e1594",
   "metadata": {},
   "outputs": [
    {
     "data": {
      "text/plain": [
       "True"
      ]
     },
     "execution_count": 1,
     "metadata": {},
     "output_type": "execute_result"
    }
   ],
   "source": [
    "from tqdm import tqdm \n",
    "import os\n",
    "import json\n",
    "from colorama import Style,Fore\n",
    "from dotenv import load_dotenv\n",
    "\n",
    "load_dotenv()"
   ]
  },
  {
   "cell_type": "code",
   "execution_count": 2,
   "id": "7052789b",
   "metadata": {},
   "outputs": [],
   "source": [
    "from langchain_core.prompts import ChatPromptTemplate"
   ]
  },
  {
   "cell_type": "code",
   "execution_count": 4,
   "id": "beec8c92",
   "metadata": {},
   "outputs": [],
   "source": [
    "from langchain_openai import ChatOpenAI\n",
    "\n",
    "gpt_4_1_mini = ChatOpenAI(\n",
    "    model=\"openai/gpt-4.1-mini\",\n",
    "    temperature=0,\n",
    "    max_retries=2,\n",
    "    api_key=os.getenv(\"GITHUB_TOKEN_ITSAIDI\"),\n",
    "    base_url=\"https://models.github.ai/inference\",\n",
    ")"
   ]
  },
  {
   "cell_type": "markdown",
   "id": "faafe0fc",
   "metadata": {},
   "source": [
    "#  Zero-shot prompting"
   ]
  },
  {
   "cell_type": "markdown",
   "id": "21c4f6f0",
   "metadata": {},
   "source": [
    "- Sans exemple explicite, mais avec contexte.\n",
    "- Les définitions ont été ajustées pour qu’elles soient plus organisées et claires pour le LLM. (Généralisation avec des catégories)\n",
    "\n",
    "\n",
    "**Définition originale**\n",
    "\n",
    "Cette classe inclut les actions mises en place pour gérer les maladies et ravageurs des plantes cultivées (arbres compris), comme les limaces, les pucerons, les maladies fongiques, etc. Peut inclure, par exemple, des actions telles que le traitement avec bouillie bordelaise, les traitements par des purins, le lâcher de poules ou de canards indiens, le choix des porte-greffes ou des variétés résistantes, l’organisation spatiale des cultures pour éviter la concentration d’une même espèce, la plantation d’espèces végétales réputées protectrices.\n",
    "\n",
    "**Définition adaptée**\n",
    "\n",
    "Cette thématique concerne la gestion des maladies et ravageurs qui affectent les plantes cultivées, y compris les arbres. Elle englobe les organismes nuisibles comme les limaces, pucerons ou champignons pathogènes, ainsi que les méthodes de lutte, qu'elles soient naturelles, biologiques ou chimiques. Cela inclut l’usage de traitements (bouillie bordelaise, purins), le recours à des animaux auxiliaires (canards, poules), la sélection de variétés résistantes, ou encore des stratégies culturales comme les associations végétales et la diversification des cultures."
   ]
  },
  {
   "cell_type": "code",
   "execution_count": 9,
   "id": "f01315ba",
   "metadata": {},
   "outputs": [],
   "source": [
    "sysPrompt = \"\"\"\n",
    "Voici la définition de la thématique « Gestion des maladies et des ravageurs » :\n",
    "\n",
    "Cette thématique concerne la gestion des maladies et ravageurs qui affectent les plantes cultivées, y compris les arbres. \n",
    "Elle englobe les organismes nuisibles comme les limaces, pucerons ou champignons pathogènes, ainsi que les méthodes de lutte, qu'elles soient naturelles, biologiques ou chimiques. \n",
    "Cela inclut l’usage de traitements (bouillie bordelaise, purins), le recours à des animaux auxiliaires (canards, poules), la sélection de variétés résistantes, \n",
    "ou encore des stratégies culturales comme les associations végétales et la diversification des cultures.\n",
    "\n",
    "---\n",
    "\n",
    "Voici une liste de mots-clés associés :\n",
    "\n",
    "maladie, ravageur, limace, puceron, maladie fongique, traitement, bouillie bordelaise, purin, lâcher de poules, lâcher de canards indiens, porte-greffe, variété résistante, organisation spatiale des cultures, espèce végétale protectrice, protecteur, protectrice\n",
    "\n",
    "\"\"\""
   ]
  },
  {
   "cell_type": "code",
   "execution_count": 10,
   "id": "51e477f4",
   "metadata": {},
   "outputs": [],
   "source": [
    "userprompt = \"\"\"\n",
    "Générer 10 autres mots-clés pertinents liés à la thématique donnée.\n",
    "\n",
    "\"\"\"\n",
    "\n",
    "prompt = ChatPromptTemplate([\n",
    "    (\"system\", sysPrompt),\n",
    "    (\"user\", userprompt)\n",
    "])\n",
    "\n",
    "chain = prompt | gpt_4_1_mini"
   ]
  },
  {
   "cell_type": "code",
   "execution_count": 13,
   "id": "21c0b74a",
   "metadata": {},
   "outputs": [],
   "source": [
    "response = chain.invoke(input={}).content"
   ]
  },
  {
   "cell_type": "code",
   "execution_count": 14,
   "id": "8234b4be",
   "metadata": {},
   "outputs": [
    {
     "name": "stdout",
     "output_type": "stream",
     "text": [
      "1. lutte biologique  \n",
      "2. insecticide naturel  \n",
      "3. rotation des cultures  \n",
      "4. piège à phéromones  \n",
      "5. nématodes auxiliaires  \n",
      "6. champignon antagoniste  \n",
      "7. désherbage mécanique  \n",
      "8. biopesticide  \n",
      "9. résistance génétique  \n",
      "10. couverture végétale\n"
     ]
    }
   ],
   "source": [
    "print(response)"
   ]
  },
  {
   "cell_type": "code",
   "execution_count": null,
   "id": "cf02c519",
   "metadata": {},
   "outputs": [],
   "source": []
  },
  {
   "cell_type": "code",
   "execution_count": null,
   "id": "d5eebd00",
   "metadata": {},
   "outputs": [],
   "source": []
  },
  {
   "cell_type": "code",
   "execution_count": null,
   "id": "28a229ab",
   "metadata": {},
   "outputs": [],
   "source": []
  }
 ],
 "metadata": {
  "kernelspec": {
   "display_name": ".venv",
   "language": "python",
   "name": "python3"
  },
  "language_info": {
   "codemirror_mode": {
    "name": "ipython",
    "version": 3
   },
   "file_extension": ".py",
   "mimetype": "text/x-python",
   "name": "python",
   "nbconvert_exporter": "python",
   "pygments_lexer": "ipython3",
   "version": "3.10.16"
  }
 },
 "nbformat": 4,
 "nbformat_minor": 5
}
