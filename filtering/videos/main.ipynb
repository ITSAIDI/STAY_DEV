{
 "cells": [
  {
   "cell_type": "markdown",
   "id": "73ef75a4",
   "metadata": {},
   "source": [
    "# Refinements"
   ]
  },
  {
   "cell_type": "markdown",
   "id": "332a81e9",
   "metadata": {},
   "source": [
    "## Setup"
   ]
  },
  {
   "cell_type": "code",
   "execution_count": null,
   "id": "11ca4701",
   "metadata": {},
   "outputs": [],
   "source": [
    "import json\n",
    "import os\n",
    "from tqdm import tqdm\n",
    "from colorama import Style,Fore"
   ]
  },
  {
   "cell_type": "code",
   "execution_count": null,
   "id": "c3d3c9ed",
   "metadata": {},
   "outputs": [],
   "source": [
    "def openJson(path):\n",
    "    \n",
    "    # Creates the file if not existing\n",
    "    if not os.path.exists(path):\n",
    "        with open(path, \"w\", encoding=\"utf-8\") as file:\n",
    "            json.dump([], file)\n",
    "            \n",
    "    # Open it otherwise\n",
    "    with open(path, \"r\", encoding=\"utf-8\") as file:\n",
    "        data = json.load(file)\n",
    "    return data\n",
    "\n",
    "def saveJson(path,data):\n",
    "    with open(path, \"w\", encoding=\"utf-8\") as f:\n",
    "       json.dump(data, f, ensure_ascii=False, indent=2)\n",
    "       #print(Style.BRIGHT+Fore.GREEN+'\\n json saved'+Style.RESET_ALL)"
   ]
  },
  {
   "cell_type": "markdown",
   "id": "31cfd47b",
   "metadata": {},
   "source": [
    "## Language Detection"
   ]
  },
  {
   "cell_type": "code",
   "execution_count": null,
   "id": "97e57d5a",
   "metadata": {},
   "outputs": [],
   "source": [
    "from langdetect import detect"
   ]
  },
  {
   "cell_type": "code",
   "execution_count": null,
   "id": "1d13f12c",
   "metadata": {},
   "outputs": [],
   "source": [
    "def languageDetection(videosPath,savePath):\n",
    "    videos = openJson(videosPath)\n",
    "        \n",
    "    for video in tqdm(videos,'Language Detection...'):\n",
    "        try:\n",
    "            lg = detect((video['titre_video']+video['description']).lower())\n",
    "            if lg == 'fr':\n",
    "                video['langue'] = 'fr'\n",
    "            else:\n",
    "                video['langue'] = 'autre'\n",
    "        except:\n",
    "            print(Style.BRIGHT+Fore.YELLOW+f\"\\n Detection failed for video : {video['id_video']}\"+Style.RESET_ALL)\n",
    "            \n",
    "    saveJson(savePath,videos)\n",
    "  "
   ]
  },
  {
   "cell_type": "code",
   "execution_count": null,
   "id": "c07473a1",
   "metadata": {},
   "outputs": [],
   "source": [
    "languageDetection('../../collecting/jsons/videos.json','./jsons/videosR1.json')"
   ]
  },
  {
   "cell_type": "markdown",
   "id": "e0be52f4",
   "metadata": {},
   "source": [
    "## Add channel location"
   ]
  },
  {
   "cell_type": "code",
   "execution_count": null,
   "id": "56eef2e0",
   "metadata": {},
   "outputs": [],
   "source": [
    "def locationAdding(channelsPath,videosPath,savePath):\n",
    "    videosR1 = openJson(videosPath)\n",
    "    channels = openJson(channelsPath)\n",
    "    \n",
    "    ################### Channels Countries dictionary\n",
    "    channels_countries = {}\n",
    "    for channel in channels:\n",
    "        channels_countries[channel['id_chaine']]= channel['localisation']\n",
    "     \n",
    "    ################## Refine the language with the country Code if existent\n",
    "    for video in tqdm(videosR1,'locationAdding...'):\n",
    "        if video['langue'] == 'fr':  \n",
    "            channelId = video['id_chaine']\n",
    "            try:\n",
    "                country = channels_countries[channelId]\n",
    "                if country:\n",
    "                    video['langue']+=f'-{country}'\n",
    "            except:\n",
    "                print(Style.BRIGHT+Fore.YELLOW+f\"\\n probleme while locationAdding video: {video['id_video']}\"+Style.RESET_ALL)\n",
    "                \n",
    "    ################## Save the New json file\n",
    "    saveJson(savePath,videosR1)"
   ]
  },
  {
   "cell_type": "code",
   "execution_count": null,
   "id": "2eb30965",
   "metadata": {},
   "outputs": [],
   "source": [
    "locationAdding('../../collecting/jsons/channels.json','./jsons/videosR1.json','./jsons/videosR2.json')"
   ]
  },
  {
   "cell_type": "code",
   "execution_count": null,
   "id": "8d2463b1",
   "metadata": {},
   "outputs": [],
   "source": []
  },
  {
   "cell_type": "markdown",
   "id": "5b583d27",
   "metadata": {},
   "source": [
    "## Detect Channel Location"
   ]
  },
  {
   "cell_type": "markdown",
   "id": "53cbf5a4",
   "metadata": {},
   "source": [
    "- We still have french videos but we are not sure if it's is fr-France, because channel has unknowen location\n",
    "- The idea is trying to detect a channel location to be able to decide about the video."
   ]
  },
  {
   "cell_type": "code",
   "execution_count": null,
   "id": "48e1fcb0",
   "metadata": {},
   "outputs": [],
   "source": []
  },
  {
   "cell_type": "code",
   "execution_count": null,
   "id": "cae16f97",
   "metadata": {},
   "outputs": [],
   "source": []
  },
  {
   "cell_type": "code",
   "execution_count": null,
   "id": "2eb6c7bc",
   "metadata": {},
   "outputs": [],
   "source": []
  },
  {
   "cell_type": "markdown",
   "id": "247048d4",
   "metadata": {},
   "source": [
    "# Filter by Language"
   ]
  },
  {
   "cell_type": "code",
   "execution_count": null,
   "id": "4e0770dd",
   "metadata": {},
   "outputs": [],
   "source": [
    "import json\n",
    "import os\n",
    "from tqdm import tqdm\n",
    "from colorama import Style,Fore\n",
    "\n",
    "# Lundi 10H"
   ]
  },
  {
   "cell_type": "code",
   "execution_count": null,
   "metadata": {},
   "outputs": [],
   "source": []
  },
  {
   "cell_type": "code",
   "execution_count": null,
   "id": "e7cee307",
   "metadata": {},
   "outputs": [],
   "source": []
  },
  {
   "cell_type": "code",
   "execution_count": null,
   "id": "ecf49fcd",
   "metadata": {},
   "outputs": [],
   "source": []
  },
  {
   "cell_type": "code",
   "execution_count": null,
   "metadata": {},
   "outputs": [],
   "source": []
  }
 ],
 "metadata": {
  "kernelspec": {
   "display_name": "agrotube",
   "language": "python",
   "name": "python3"
  },
  "language_info": {
   "codemirror_mode": {
    "name": "ipython",
    "version": 3
   },
   "file_extension": ".py",
   "mimetype": "text/x-python",
   "name": "python",
   "nbconvert_exporter": "python",
   "pygments_lexer": "ipython3",
   "version": "3.10.16"
  }
 },
 "nbformat": 4,
 "nbformat_minor": 5
}
