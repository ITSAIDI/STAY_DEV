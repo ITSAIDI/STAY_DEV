{
 "cells": [
  {
   "cell_type": "markdown",
   "id": "82cd4e30",
   "metadata": {},
   "source": [
    "# Filtering by Location"
   ]
  },
  {
   "cell_type": "markdown",
   "id": "0d84ae31",
   "metadata": {},
   "source": [
    "## Setup"
   ]
  },
  {
   "cell_type": "code",
   "execution_count": null,
   "id": "fc76d883",
   "metadata": {},
   "outputs": [],
   "source": [
    "from collections import Counter\n",
    "from tqdm import tqdm \n",
    "from colorama import Style,Fore\n",
    "import os\n",
    "from dotenv import load_dotenv\n",
    "import json\n",
    "import time\n",
    "load_dotenv()"
   ]
  },
  {
   "cell_type": "code",
   "execution_count": null,
   "id": "f788f78e",
   "metadata": {},
   "outputs": [],
   "source": [
    "def openJson(path):\n",
    "    \n",
    "    # Creates the file if not existing\n",
    "    if not os.path.exists(path):\n",
    "        with open(path, \"w\", encoding=\"utf-8\") as file:\n",
    "            json.dump([], file)\n",
    "            \n",
    "    # Open it otherwise\n",
    "    with open(path, \"r\", encoding=\"utf-8\") as file:\n",
    "        data = json.load(file)\n",
    "    return data\n",
    "\n",
    "def saveJson(path,data):\n",
    "    with open(path, \"w\", encoding=\"utf-8\") as f:\n",
    "       json.dump(data, f, ensure_ascii=False, indent=2)\n",
    "       #print(Style.BRIGHT+Fore.GREEN+'\\n json saved'+Style.RESET_ALL)"
   ]
  },
  {
   "cell_type": "markdown",
   "id": "e5bfa388",
   "metadata": {},
   "source": [
    "## Run All"
   ]
  },
  {
   "cell_type": "code",
   "execution_count": null,
   "id": "e833f47a",
   "metadata": {},
   "outputs": [],
   "source": [
    "channelsR1 = openJson(\"../videos/jsons/channelsR1.json\")\n",
    "len(channelsR1)"
   ]
  },
  {
   "cell_type": "code",
   "execution_count": null,
   "id": "50d92687",
   "metadata": {},
   "outputs": [],
   "source": [
    "channelsF1 = []\n",
    "for channel in channelsR1:\n",
    "    if channel['localisation']=='FR':\n",
    "        channelsF1.append(channel)\n",
    "\n",
    "saveJson(\"./jsons/channelsF1.json\",channelsF1)\n",
    "print(len(channelsF1))"
   ]
  },
  {
   "cell_type": "markdown",
   "id": "7b33267b",
   "metadata": {},
   "source": [
    "# Filtering of TV Channels"
   ]
  },
  {
   "cell_type": "code",
   "execution_count": null,
   "id": "44cf5fc8",
   "metadata": {},
   "outputs": [],
   "source": [
    "chainesTv = [\n",
    "    \"France 2\", \"France 3\", \"France 4\",\"France 5\",\"Franceinfo\",\n",
    "    \"BFMTV\", \"C8\", \"CStar\", \"Gulli\", \"Cnews\",\n",
    "    \"Canal+\", \"Planète+\", \"LCI\", \"Paris première\",\n",
    "    \"6ter\", \"Arte\", \"M6\", \"W9\",\n",
    "    \"TFX\", \"TMC\", \"NRJ12\", \"TF1\",\"La Chaîne parlementaire\",\n",
    "    \"Chérie 25\", \"RMC\"\n",
    "]\n",
    "chainesTv = [nomTV.lower().replace(\" \", \"\") for nomTV in chainesTv]\n",
    "\n",
    "print(len(chainesTv))\n",
    "print(chainesTv)"
   ]
  },
  {
   "cell_type": "code",
   "execution_count": null,
   "id": "898d36f9",
   "metadata": {},
   "outputs": [],
   "source": [
    "channelsF2 = []\n",
    "for channel in channelsF1:\n",
    "    isTV = False\n",
    "    for nameTV in chainesTv:\n",
    "        if nameTV in channel['nom_chaine'].lower().replace(\" \", \"\"):\n",
    "            isTV = True\n",
    "    if isTV == False:\n",
    "        channelsF2.append(channel)\n",
    "\n",
    "saveJson(\"./jsons/channelsF2.json\",channelsF2)\n",
    "len(channelsF2)"
   ]
  },
  {
   "cell_type": "markdown",
   "id": "fa471e53",
   "metadata": {},
   "source": [
    "# Filtering by Relevance"
   ]
  },
  {
   "cell_type": "markdown",
   "id": "9f16db6a",
   "metadata": {},
   "source": [
    "## Short Bio problem resolution\n",
    "\n",
    "- We aim to use the Bios of channels in this step, but some channels have empty or very small Bios so  we need first to fix this issue.\n",
    "- An alternative context that represents a channel can be the metadata (title, description, tags) of 3 last videos shared by the channel.\n"
   ]
  },
  {
   "cell_type": "code",
   "execution_count": null,
   "id": "8e4aba20",
   "metadata": {},
   "outputs": [],
   "source": [
    "from scrapetube import get_channel\n",
    "from googleapiclient.discovery import build\n",
    "\n",
    "def getContext(channel_id):\n",
    "    api_key = os.getenv(\"YOUTUBE_API_KEY\")\n",
    "    youtube = build('youtube', 'v3', developerKey=api_key)\n",
    "\n",
    "    video_ids = []\n",
    "    for video in get_channel(channel_id, limit=3, sort_by='newest', content_type='videos'):\n",
    "        video_ids.append(video['videoId'])\n",
    "\n",
    "    if not video_ids:\n",
    "        return \"No videos found.\"\n",
    "\n",
    "    request = youtube.videos().list(part='snippet', id=','.join(video_ids))\n",
    "    response = request.execute()\n",
    "\n",
    "    combined = \"\"\n",
    "    for item in response['items']:\n",
    "        title = item['snippet'].get('title', 'No title')\n",
    "        description = item['snippet'].get('description', 'No description')\n",
    "        tags = ', '.join(item['snippet'].get('tags', [])) if 'tags' in item['snippet'] else 'No tags'\n",
    "\n",
    "        combined += f\"Title: {title}\\nDescription: {description}\\nTags: {tags}\\n\\n\"\n",
    "\n",
    "    return combined\n"
   ]
  },
  {
   "cell_type": "code",
   "execution_count": null,
   "id": "efb5f6d6",
   "metadata": {},
   "outputs": [],
   "source": [
    "saveCount = 0\n",
    "for item in tqdm(channelsF2):\n",
    "    bio = item.get('bio', '').strip()\n",
    "    nb_mots = len(bio.split())\n",
    "    \n",
    "    if nb_mots <= 100 :\n",
    "        context = getContext(item['id_chaine'])\n",
    "        item['context'] = context\n",
    "        \n",
    "    saveCount+=1\n",
    "    if saveCount >= 100:\n",
    "        saveJson(\"./jsons/channelsF2.json\",channelsF2)\n",
    "        saveCount = 0\n",
    "   \n",
    "saveJson(\"./jsons/channelsF2.json\",channelsF2)"
   ]
  },
  {
   "cell_type": "code",
   "execution_count": null,
   "id": "ca192bdc",
   "metadata": {},
   "outputs": [],
   "source": []
  },
  {
   "cell_type": "markdown",
   "id": "6229c706",
   "metadata": {},
   "source": [
    "## LLM\n",
    "\n",
    "- An LLM gives a decision about the relevance of a channel based on it's bio or context(3 last videos metadata)"
   ]
  },
  {
   "cell_type": "code",
   "execution_count": null,
   "id": "54788446",
   "metadata": {},
   "outputs": [],
   "source": [
    "from langchain_google_genai import GoogleGenerativeAI\n",
    "from langchain_core.prompts import ChatPromptTemplate"
   ]
  },
  {
   "cell_type": "code",
   "execution_count": null,
   "id": "58d77d35",
   "metadata": {},
   "outputs": [],
   "source": [
    "gemini_flash = GoogleGenerativeAI(model=\"gemini-2.0-flash\", google_api_key=os.getenv(\"GEMINI_API_KEY\"))"
   ]
  },
  {
   "cell_type": "code",
   "execution_count": null,
   "id": "2b66a36e",
   "metadata": {},
   "outputs": [],
   "source": [
    "sysprompt = \"\"\"\n",
    "# Définition de l’autosuffisance\n",
    "\n",
    "L'autosuffisance est une démarche visant à acquérir la capacité de subvenir par soi-même à ses besoins fondamentaux,  \n",
    "en priorité alimentaires, par l'autoconsommation – c'est-à-dire produire, récolter et conserver un maximum de sa propre nourriture,  \n",
    "souvent en privilégiant le bio, le local et le saisonnier.\n",
    "\n",
    "Elle dépasse la simple autonomie matérielle : c’est un engagement volontaire pour réduire sa dépendance au système économique et social extérieur.  \n",
    "Cela implique des choix concrets : trouver un lieu adapté, l’aménager (par exemple en permaculture), repenser sa manière de consommer et de gérer son temps, pour construire une vie plus autonome.\n",
    "\n",
    "---\n",
    "\n",
    "# Votre mission\n",
    "\n",
    "Décider si une chaîne est directement liée à la thématique de l’autosuffisance, en se basant sur un des deux contextes suivants :\n",
    "- **context** = nom de la chaîne + bio\n",
    "- OU  \n",
    "- **context** = nom de la chaîne + bio + titres, descriptions et tags des trois dernières vidéos (si la bio est courte ou vide)\n",
    "\n",
    "---\n",
    "\n",
    "# Critères de décision\n",
    "\n",
    "## Répondre **\"oui\"** uniquement si la chaîne est portée par :\n",
    "\n",
    "- Des personnes ou des groupes qui cherchent à devenir autonomes (énergie, alimentation, habitat, etc.),  \n",
    "  soit à titre **individuel** (seuls ou en famille),  soit de manière **auto-organisée** (collectifs informels, association ...).\n",
    "\n",
    "Et uniquement si le contenu est **centré sur l’autosuffisance** :  \n",
    "\n",
    "potager, autonomie alimentaire, autonomie énergétique, conservation, vie autonome, permaculture, etc.\n",
    "\n",
    "## La présence de mots-clés comme :  \n",
    "\n",
    "**autosuffisance**, **autosuffisant**, **autonomie**, **vie autonome**, **autonomie alimentaire**, **autonomie énergétique**  \n",
    "\n",
    "est un bon indicateur.\n",
    "\n",
    "## Exclure systématiquement :\n",
    "\n",
    "- Les chaînes d'entreprises, d’institutions ou de structures commerciales (À but lucratif).\n",
    "- Les chaînes d’agriculture générale, de jardinage standard ou de permaculture académique, **si elles ne sont pas clairement orientées vers une démarche d’autosuffisance personnelle ou collective non institutionnelle**.\n",
    "\n",
    "---\n",
    "\n",
    "# Format attendu\n",
    "\n",
    "Répondre dans ce format JSON :\n",
    "\n",
    "  \"decision\": \"oui\" ou \"non\",\n",
    "  \"justification\": \"Justifiez votre décision avec des arguments clairs, en vous basant uniquement sur les critères définis ci-dessus.\"\n",
    "\n",
    "\"\"\"\n",
    "\n",
    "userprompt = \"\"\"\n",
    "Le context ici\n",
    "---\n",
    "{context}\n",
    "\n",
    "\"\"\"\n",
    "\n",
    "prompt = ChatPromptTemplate([\n",
    "    (\"system\", sysprompt),\n",
    "    (\"user\", userprompt)\n",
    "])\n",
    "\n",
    "chain = prompt | gemini_flash\n"
   ]
  },
  {
   "cell_type": "code",
   "execution_count": null,
   "id": "6452bded",
   "metadata": {},
   "outputs": [],
   "source": [
    "#Test\n",
    "\n",
    "llmInput = \"\\n                              Nom Chaine :\\n                              ---\\n                              L’Ôton’home\\n                              \\n                              Bio Chaine :\\n                              ---\\n                              Nous sommes un couple parent de 2 jeunes garçons et avons acheté à l’été 2020 une GRANDE GRANGE sur un peu plus de 3 hectares de terrain dans le Tarn. Notre objectif: transformer cette grange en HABITATION la plus AUTONOME possible, ce par nos propres moyens, et en faire notre petit paradis. Venez partager notre aventure et suivre ce projet un peu fou ici.\\n\\nLe but de notre chaîne: montrer toutes les étapes de la TRANSFORMATION de la GRANGE en HABITATION, échanger sur l’AUTONOMIE, partager nos DIY en matière de PRODUITS MÉNAGERS et COSMÉTIQUES, toujours dans une optique d’AUTONOMIE.\\n\\nPrécision importante: nous ne sommes PAS des professionnels du bâtiment donc nos vidéos n'ont pas valeur de tutoriels mais de simples partages d'expérience.\\n\\nN’hésitez pas à laisser vos commentaires et à vous abonner à la chaîne. Vous pouvez également nous retrouver sur Facebook et Tipeee. En espérant pouvoir vous inspirer.\\n\\nDes bises,\\n\\nAurélie & David \\n                            \",\n",
    "input = {\"context\":llmInput}\n",
    "print(input)\n",
    "print(chain.invoke(input))"
   ]
  },
  {
   "cell_type": "markdown",
   "id": "30103409",
   "metadata": {},
   "source": [
    "## Run All"
   ]
  },
  {
   "cell_type": "code",
   "execution_count": null,
   "id": "b7243ea8",
   "metadata": {},
   "outputs": [],
   "source": [
    "channelsF2 = openJson(\"./jsons/channelsF2.json\")\n",
    "len(channelsF2)"
   ]
  },
  {
   "cell_type": "code",
   "execution_count": null,
   "id": "d64f9dc1",
   "metadata": {},
   "outputs": [],
   "source": [
    "# Prepare llmInput\n",
    "\n",
    "for channel in channelsF2:\n",
    "    llmInput = \"\"\n",
    "    if \"context\" in channel:\n",
    "        llmInput = f\"\"\"\n",
    "                    Nom Chaine :\n",
    "                    ---\n",
    "                    {channel['nom_chaine']}\n",
    "                    \n",
    "                    Bio Chaine :\n",
    "                    ---\n",
    "                    {channel['bio']}\n",
    "                    \n",
    "                    contexte d’après les vidéos :\n",
    "                    ---\n",
    "                    {channel['context']}   \n",
    "                \"\"\"          \n",
    "    else :\n",
    "        llmInput = f\"\"\"\n",
    "                    Nom Chaine :\n",
    "                    ---\n",
    "                    {channel['nom_chaine']}\n",
    "                    \n",
    "                    Bio Chaine :\n",
    "                    ---\n",
    "                    {channel['bio']} \n",
    "                \"\"\"\n",
    "    channel['llmInput'] = llmInput   \n",
    "    \n",
    "saveJson(\"./jsons/channelsF2.json\",channelsF2) "
   ]
  },
  {
   "cell_type": "code",
   "execution_count": null,
   "id": "1c3ca70f",
   "metadata": {},
   "outputs": [],
   "source": [
    "def cleanAnswer(answer):\n",
    "    answer = answer.strip(\"`\")   \n",
    "    if answer.startswith(\"json\"):\n",
    "        answer = answer[4:].strip() \n",
    "    return  answer"
   ]
  },
  {
   "cell_type": "code",
   "execution_count": null,
   "id": "ade1d318",
   "metadata": {},
   "outputs": [],
   "source": [
    "saveCount = 0\n",
    "apiCount = 0\n",
    "\n",
    "for item in tqdm(channelsF2):\n",
    "    answer = cleanAnswer(chain.invoke({\"context\":item[\"llmInput\"]}))\n",
    "    answer = json.loads(answer)\n",
    "    #print(video['id_video'],'/n',answer)\n",
    "    item.update(answer)\n",
    "    \n",
    "    saveCount+=1\n",
    "    apiCount+=1\n",
    "    \n",
    "    # API Delay of 1 min \n",
    "    if apiCount == 13:\n",
    "        print(\"sleep for 60 s\")\n",
    "        time.sleep(60)\n",
    "        apiCount=0\n",
    "        \n",
    "    # Saving Safety\n",
    "    if saveCount >= 100:\n",
    "        saveJson(\"./jsons/channelsF2.json\",channelsF2)\n",
    "        saveCount = 0\n",
    "   \n",
    "saveJson(\"./jsons/channelsF2.json\",channelsF2)"
   ]
  },
  {
   "cell_type": "code",
   "execution_count": null,
   "id": "f4a011fb",
   "metadata": {},
   "outputs": [],
   "source": [
    "channelsF3 = []\n",
    "channelsF3Non = []\n",
    "\n",
    "for channel in channelsF2:\n",
    "    if channel['decision']=='oui':\n",
    "      channelsF3.append(channel) \n",
    "    else :\n",
    "        channelsF3Non.append(channel) \n",
    "\n",
    "saveJson(\"./jsons/channelsF3.json\",channelsF3)\n",
    "saveJson(\"./jsons/channelsF3Non.json\",channelsF3Non)\n",
    "\n",
    "print(len(channelsF3))\n",
    "print(len(channelsF3Non))"
   ]
  },
  {
   "cell_type": "code",
   "execution_count": null,
   "id": "5e3c49ae",
   "metadata": {},
   "outputs": [],
   "source": []
  }
 ],
 "metadata": {
  "kernelspec": {
   "display_name": "agrotube",
   "language": "python",
   "name": "python3"
  },
  "language_info": {
   "codemirror_mode": {
    "name": "ipython",
    "version": 3
   },
   "file_extension": ".py",
   "mimetype": "text/x-python",
   "name": "python",
   "nbconvert_exporter": "python",
   "pygments_lexer": "ipython3",
   "version": "3.10.16"
  }
 },
 "nbformat": 4,
 "nbformat_minor": 5
}
