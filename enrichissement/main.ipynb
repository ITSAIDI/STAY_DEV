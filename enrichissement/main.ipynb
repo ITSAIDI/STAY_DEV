{
 "cells": [
  {
   "cell_type": "code",
   "execution_count": null,
   "id": "5da13fd1",
   "metadata": {},
   "outputs": [],
   "source": [
    "import os\n",
    "import psycopg\n",
    "from datetime import date\n",
    "from googleapiclient.discovery import build\n",
    "from dotenv import load_dotenv\n",
    "from tqdm import tqdm\n",
    "from colorama import Style,Fore\n",
    "\n",
    "load_dotenv()"
   ]
  },
  {
   "cell_type": "markdown",
   "id": "2d7a16e7",
   "metadata": {},
   "source": [
    "# Collecter et enregistrer les métriques des chaînes\n",
    "\n",
    "- On va collecter et enregistrer en même temps les métriques de chaque chaîne pertinente (en évitant de passer par un JSON).\n"
   ]
  },
  {
   "cell_type": "code",
   "execution_count": null,
   "id": "2bbaad0a",
   "metadata": {},
   "outputs": [],
   "source": [
    "youtube = build('youtube', 'v3', developerKey=os.getenv(\"YOUTUBE_API_KEY1\"))"
   ]
  },
  {
   "cell_type": "code",
   "execution_count": null,
   "id": "ea5712c0",
   "metadata": {},
   "outputs": [],
   "source": [
    "def getMetrics(id_chaine):\n",
    "    request = youtube.channels().list(\n",
    "        part='statistics',\n",
    "        id=id_chaine\n",
    "    )\n",
    "    response = request.execute()\n",
    "    \n",
    "    if not response['items']:\n",
    "        return None\n",
    "    \n",
    "    stats = response['items'][0]['statistics']\n",
    "    date_releve_chaine = date.today().isoformat()\n",
    "    nombre_vues_total = int(stats.get('viewCount', 0))\n",
    "    nombre_abonnes_total = int(stats.get('subscriberCount', 0))\n",
    "    nombre_videos_total = int(stats.get('videoCount', 0))\n",
    "    \n",
    "    return {\n",
    "        'date_releve_chaine': date_releve_chaine,\n",
    "        'nombre_vues_total': nombre_vues_total,\n",
    "        'nombre_abonnes_total': nombre_abonnes_total,\n",
    "        'nombre_videos_total': nombre_videos_total\n",
    "    }"
   ]
  },
  {
   "cell_type": "code",
   "execution_count": null,
   "id": "d0c0200d",
   "metadata": {},
   "outputs": [],
   "source": [
    "getMetrics(\"UCVQeGg4Fdrrr8vDXa7yjOYg\")"
   ]
  },
  {
   "cell_type": "code",
   "execution_count": null,
   "id": "48ff4934",
   "metadata": {},
   "outputs": [],
   "source": [
    "conn = psycopg.connect(\n",
    "    dbname=\"youtubestay\",\n",
    "    user=\"postgres\",\n",
    "    password=os.getenv(\"POSTGRE_PASSWORD\"),\n",
    "    host=\"localhost\",\n",
    "    port=\"5432\"\n",
    ")\n",
    "cur = conn.cursor()\n",
    "\n",
    "# Récupérer les chaînes pertinentes\n",
    "cur.execute(\"SELECT id_chaine FROM chaines WHERE pertinente = TRUE\")\n",
    "chaines = cur.fetchall()\n",
    "\n",
    "\n",
    "print(chaines)\n",
    "print(len(chaines))"
   ]
  },
  {
   "cell_type": "code",
   "execution_count": null,
   "id": "a2d2f0f1",
   "metadata": {},
   "outputs": [],
   "source": [
    "# Pour chaque chaîne, récupérer et insérer les métriques\n",
    "for (id_chaine,) in chaines:\n",
    "    metriques = getMetrics(id_chaine)\n",
    "    if metriques:\n",
    "        cur.execute(\"\"\"\n",
    "            INSERT INTO chaines_metriques (\n",
    "                id_chaine, date_releve_chaine,\n",
    "                nombre_vues_total, nombre_abonnes_total, nombre_videos_total\n",
    "            )\n",
    "            VALUES (%s, %s, %s, %s, %s)\n",
    "            ON CONFLICT (id_chaine, date_releve_chaine) DO NOTHING\n",
    "        \"\"\", (\n",
    "            id_chaine,\n",
    "            metriques['date_releve_chaine'],\n",
    "            metriques['nombre_vues_total'],\n",
    "            metriques['nombre_abonnes_total'],\n",
    "            metriques['nombre_videos_total']\n",
    "        ))\n",
    "\n",
    "conn.commit()\n",
    "cur.close()\n",
    "conn.close()"
   ]
  },
  {
   "cell_type": "markdown",
   "id": "26240104",
   "metadata": {},
   "source": [
    "# Calcul de la couverture"
   ]
  },
  {
   "cell_type": "markdown",
   "id": "e066aca7",
   "metadata": {},
   "source": []
  },
  {
   "cell_type": "code",
   "execution_count": null,
   "id": "71e87b86",
   "metadata": {},
   "outputs": [],
   "source": [
    "def get_couverture(id_chaine,conn):\n",
    "    \n",
    "    cur = conn.cursor()\n",
    "\n",
    "    # Récupérer le nombre de vidéos collectées\n",
    "    cur.execute(\"\"\"\n",
    "        SELECT COUNT(*) FROM videos\n",
    "        WHERE id_chaine = %s AND requetes IS NOT NULL;\n",
    "    \"\"\", (id_chaine,))\n",
    "    nb_collectees = cur.fetchone()[0]\n",
    "\n",
    "    # Récupérer le nombre total de vidéos le plus récent\n",
    "    cur.execute(\"\"\"\n",
    "        SELECT nombre_videos_total\n",
    "        FROM chaines_metriques\n",
    "        WHERE id_chaine = %s\n",
    "        ORDER BY date_releve_chaine DESC\n",
    "        LIMIT 1\n",
    "    \"\"\", (id_chaine,))\n",
    "    row = cur.fetchone()\n",
    "\n",
    "\n",
    "    if not row:\n",
    "        return None  # Pas de métrique pour cette chaîne\n",
    "\n",
    "    nb_total = row[0]\n",
    "\n",
    "    if nb_total == 0:\n",
    "        return 0.0  # Évite division par zéro\n",
    "\n",
    "    couverture = nb_collectees / nb_total\n",
    "    return nb_collectees,nb_total,round(couverture, 3)\n"
   ]
  },
  {
   "cell_type": "code",
   "execution_count": null,
   "id": "8fdcf1b7",
   "metadata": {},
   "outputs": [],
   "source": [
    "conn = psycopg.connect(\n",
    "        dbname=\"youtubestay\",\n",
    "        user=\"postgres\",\n",
    "        password=os.getenv(\"POSTGRE_PASSWORD\"),\n",
    "        host=\"localhost\",\n",
    "        port=\"5432\"\n",
    "    )\n",
    "\n",
    "nb_collectees,nb_total,couverture = get_couverture(\"UCxBJustR1tuXVy7tLivER2g\",conn)\n",
    "\n",
    "\n",
    "print(\"Nombre de vidéos pertinentes dans la base de données\",nb_collectees)\n",
    "print(\"Nombre de vidéos total de la chaîne\",nb_total)\n",
    "print(\"Couverture :\", couverture)\n",
    "\n",
    "conn.close()\n"
   ]
  },
  {
   "cell_type": "code",
   "execution_count": null,
   "id": "fbdb7264",
   "metadata": {},
   "outputs": [],
   "source": [
    "import psycopg\n",
    "import os\n",
    "import json\n",
    "from tqdm import tqdm\n",
    "\n",
    "def get_couverture_moyenne():\n",
    "    conn = psycopg.connect(\n",
    "        dbname=\"youtubestay\",\n",
    "        user=\"postgres\",\n",
    "        password=os.getenv(\"POSTGRE_PASSWORD\"),\n",
    "        host=\"localhost\",\n",
    "        port=\"5432\"\n",
    "    )\n",
    "    cur = conn.cursor()\n",
    "\n",
    "    cur.execute(\"\"\"\n",
    "        SELECT id_chaine FROM chaines WHERE pertinente = TRUE\n",
    "    \"\"\")\n",
    "    chaines = cur.fetchall()\n",
    "\n",
    "    total = 0.0\n",
    "    count = 0\n",
    "    resultats = []\n",
    "\n",
    "    for (id_chaine,) in tqdm(chaines):\n",
    "        nb_collectees, nb_total, couverture = get_couverture(id_chaine, conn)\n",
    "        resultats.append({\n",
    "            \"id_chaine\": id_chaine,\n",
    "            \"nb_collectees\": nb_collectees,\n",
    "            \"nb_total\": nb_total,\n",
    "            \"couverture\": couverture\n",
    "        })\n",
    "        if couverture is not None:\n",
    "            total += couverture\n",
    "            count += 1\n",
    "\n",
    "    conn.close()\n",
    "    \n",
    "    resultats.sort(key=lambda x: (x[\"couverture\"] is not None, x[\"couverture\"]), reverse=True)\n",
    "    \n",
    "    with open(\"couverture_par_chaine.json\", \"w\", encoding=\"utf-8\") as f:\n",
    "        json.dump(resultats, f, indent=2, ensure_ascii=False)\n",
    "\n",
    "    if count == 0:\n",
    "        return 0.0\n",
    "    return round(total / count, 3)\n"
   ]
  },
  {
   "cell_type": "code",
   "execution_count": null,
   "id": "2075d19b",
   "metadata": {},
   "outputs": [],
   "source": [
    "get_couverture_moyenne()"
   ]
  },
  {
   "cell_type": "code",
   "execution_count": 4,
   "id": "bd08dd1b",
   "metadata": {},
   "outputs": [
    {
     "data": {
      "image/png": "[encoded data removed]",
      "text/plain": [
       "<Figure size 800x500 with 1 Axes>"
      ]
     },
     "metadata": {},
     "output_type": "display_data"
    }
   ],
   "source": [
    "import json\n",
    "import matplotlib.pyplot as plt\n",
    "\n",
    "with open(\"couverture_par_chaine.json\", \"r\", encoding=\"utf-8\") as f:\n",
    "    data = json.load(f)\n",
    "\n",
    "couvertures = [item[\"couverture\"] for item in data if item[\"couverture\"] is not None]\n",
    "\n",
    "plt.figure(figsize=(8, 5))\n",
    "plt.boxplot(couvertures, vert=False, patch_artist=True, boxprops=dict(facecolor='lightblue'))\n",
    "\n",
    "plt.title(\"Boxplot des taux de couverture par chaîne\", fontsize=14, fontweight='bold')\n",
    "plt.xlabel(\"Taux de couverture\", fontsize=12, fontweight='bold')\n",
    "\n",
    "plt.xticks(fontsize=10, fontweight='bold')  # Ticks axe x en gras\n",
    "plt.yticks(fontsize=10, fontweight='bold')  # Ticks axe y en gras\n",
    "\n",
    "plt.grid(True, axis='x')\n",
    "plt.tight_layout()\n",
    "plt.show()\n",
    "\n",
    "\n"
   ]
  },
  {
   "cell_type": "code",
   "execution_count": 2,
   "id": "b1dfc085",
   "metadata": {},
   "outputs": [
    {
     "name": "stdout",
     "output_type": "stream",
     "text": [
      "Q1 (25e percentile)  : 0.012\n",
      "Médiane (50e percentile): 0.034\n",
      "Q3 (75e percentile)  : 0.093\n"
     ]
    }
   ],
   "source": [
    "import json\n",
    "import numpy as np\n",
    "\n",
    "with open(\"couverture_par_chaine.json\", \"r\", encoding=\"utf-8\") as f:\n",
    "    data = json.load(f)\n",
    "\n",
    "couvertures = [item[\"couverture\"] for item in data if item[\"couverture\"] is not None]\n",
    "\n",
    "q1 = round(np.percentile(couvertures, 25), 3)\n",
    "median = round(np.percentile(couvertures, 50), 3)\n",
    "q3 = round(np.percentile(couvertures, 75), 3)\n",
    "\n",
    "print(f\"Q1 (25e percentile)  : {q1}\")\n",
    "print(f\"Médiane (50e percentile): {median}\")\n",
    "print(f\"Q3 (75e percentile)  : {q3}\")\n"
   ]
  },
  {
   "cell_type": "markdown",
   "id": "6d816410",
   "metadata": {},
   "source": [
    "# Enrichissement des vidéos"
   ]
  },
  {
   "cell_type": "code",
   "execution_count": null,
   "id": "bca0b4db",
   "metadata": {},
   "outputs": [],
   "source": [
    "from googleapiclient.discovery import build\n",
    "import re\n",
    "import scrapetube\n",
    "\n",
    "youtube = build(\"youtube\", \"v3\", developerKey=os.getenv(\"YOUTUBE_API_Nou2008\"))"
   ]
  },
  {
   "cell_type": "code",
   "execution_count": null,
   "id": "e560d594",
   "metadata": {},
   "outputs": [],
   "source": [
    "\n",
    "def getVideosIdsYoutubeAPI(channel_id):\n",
    "\n",
    "    channel_response = youtube.channels().list(\n",
    "        part='contentDetails',\n",
    "        id=channel_id\n",
    "    ).execute()\n",
    "\n",
    "    uploads_playlist_id = channel_response['items'][0]['contentDetails']['relatedPlaylists']['uploads']\n",
    "\n",
    "    video_ids = []\n",
    "    next_page_token = None\n",
    "\n",
    "    while True:\n",
    "        playlist_response = youtube.playlistItems().list(\n",
    "            part='snippet',\n",
    "            playlistId=uploads_playlist_id,\n",
    "            maxResults=50,\n",
    "            pageToken=next_page_token\n",
    "        ).execute()\n",
    "\n",
    "        for item in playlist_response['items']:\n",
    "            video_id = item['snippet']['resourceId']['videoId']\n",
    "            video_ids.append(video_id)\n",
    "\n",
    "        next_page_token = playlist_response.get('nextPageToken')\n",
    "        if not next_page_token:\n",
    "            break\n",
    "\n",
    "    return video_ids\n",
    "\n",
    "def toSeconds(iso_duration):\n",
    "    # Exemple : \"PT50M11S\" → 3011 secondes\n",
    "    match = re.match(r'PT(?:(\\d+)H)?(?:(\\d+)M)?(?:(\\d+)S)?', iso_duration)\n",
    "    if not match:\n",
    "        return None\n",
    "    hours = int(match.group(1)) if match.group(1) else 0\n",
    "    minutes = int(match.group(2)) if match.group(2) else 0\n",
    "    seconds = int(match.group(3)) if match.group(3) else 0\n",
    "    return hours * 3600 + minutes * 60 + seconds\n",
    "\n",
    "def getvideos_details_bunch(video_ids):\n",
    "    try:\n",
    "        \n",
    "        request = youtube.videos().list(\n",
    "            part='snippet,contentDetails',\n",
    "            id=','.join(video_ids[:50])  # Max 50 IDs per request\n",
    "        )\n",
    "        response = request.execute()\n",
    "    except Exception as e:\n",
    "        print(f\"probleme with request  {e}\")\n",
    "\n",
    "    videos_metadata = []\n",
    "\n",
    "    for item in response.get('items', []):\n",
    "        video_metadata = {\n",
    "            'id_video': item['id'],\n",
    "            'id_chaine': item['snippet']['channelId'],\n",
    "            'titre_video': item['snippet']['title'],\n",
    "            'description': item['snippet'].get('description', ''),\n",
    "            'date_publication': item['snippet']['publishedAt'],\n",
    "            'duree': item['contentDetails']['duration'],\n",
    "            'miniature': '',\n",
    "            'tags': '',\n",
    "            'langue': 'fr'\n",
    "        }\n",
    "\n",
    "        resolution_order = [\"maxres\", \"standard\", \"high\", \"medium\", \"default\"]\n",
    "        for res in resolution_order:\n",
    "            if res in item['snippet'].get('thumbnails', {}):\n",
    "                video_metadata['miniature'] = item['snippet']['thumbnails'][res]['url']\n",
    "                break\n",
    "\n",
    "        if 'tags' in item['snippet']:\n",
    "            video_metadata['tags'] = item['snippet']['tags']\n",
    "\n",
    "        videos_metadata.append(video_metadata)\n",
    "\n",
    "    return videos_metadata\n"
   ]
  },
  {
   "cell_type": "code",
   "execution_count": null,
   "id": "ed8409ac",
   "metadata": {},
   "outputs": [],
   "source": [
    "ids = getVideosIdsYoutubeAPI(\"UCITV77iHSp-2_cgwdZNaxKQ\")\n",
    "len(ids)"
   ]
  },
  {
   "cell_type": "code",
   "execution_count": null,
   "id": "30457a3b",
   "metadata": {},
   "outputs": [],
   "source": [
    "conn = psycopg.connect(\n",
    "    dbname=\"youtubestay\",\n",
    "    user=\"postgres\",\n",
    "    password=os.getenv(\"POSTGRE_PASSWORD\"),\n",
    "    host=\"localhost\",\n",
    "    port=\"5432\"\n",
    ")\n",
    "\n",
    "cur = conn.cursor()"
   ]
  },
  {
   "cell_type": "code",
   "execution_count": null,
   "id": "86968367",
   "metadata": {},
   "outputs": [],
   "source": [
    "getvideos_details_bunch(ids)"
   ]
  },
  {
   "cell_type": "code",
   "execution_count": null,
   "id": "10819098",
   "metadata": {},
   "outputs": [],
   "source": [
    "cur.execute(\"\"\"\n",
    "    SELECT id_chaine FROM chaines WHERE pertinente = TRUE\n",
    "\"\"\")\n",
    "\n",
    "chaines_pertinentes = cur.fetchall()\n",
    "\n",
    "for (id_chaine,) in tqdm(chaines_pertinentes): \n",
    "    videos_ids = getVideosIdsYoutubeAPI(id_chaine)\n",
    "    \n",
    "    for i in range(0, len(videos_ids), 50):\n",
    "        batch_ids = videos_ids[i:i+50]  # Paquet de 50 IDs max\n",
    "        videos = getvideos_details_bunch(batch_ids)\n",
    "      \n",
    "        data_to_insert = []\n",
    "\n",
    "        for video in videos:\n",
    "            id_video = video[\"id_video\"]\n",
    "            id_chaine = video[\"id_chaine\"]\n",
    "            titre = video[\"titre_video\"]\n",
    "            description = video[\"description\"]\n",
    "            date_publication = video[\"date_publication\"][:10]  # 'YYYY-MM-DD'\n",
    "            duree = toSeconds(video[\"duree\"])\n",
    "            miniature = video[\"miniature\"]\n",
    "            langue = video[\"langue\"]\n",
    "            transcription = None\n",
    "            tags = video[\"tags\"] if isinstance(video[\"tags\"], list) else None\n",
    "            requetes = None\n",
    "            categorie_video = None\n",
    "\n",
    "            data_to_insert.append((\n",
    "                id_video, titre, description, date_publication, categorie_video,\n",
    "                duree, miniature, langue, transcription, tags, requetes, id_chaine\n",
    "            ))\n",
    "\n",
    "        if data_to_insert:\n",
    "            cur.executemany(\"\"\"\n",
    "                INSERT INTO videos (\n",
    "                    id_video, titre, description, date_publication, categorie_video,\n",
    "                    duree, miniature, langue, transcription, tags, requetes, id_chaine\n",
    "                ) VALUES (%s, %s, %s, %s, %s, %s, %s, %s, %s, %s, %s, %s)\n",
    "                ON CONFLICT (id_video) DO NOTHING\n",
    "            \"\"\", data_to_insert)\n"
   ]
  },
  {
   "cell_type": "code",
   "execution_count": null,
   "id": "1ce83604",
   "metadata": {},
   "outputs": [],
   "source": [
    "conn.commit()\n",
    "cur.close()\n",
    "conn.close()"
   ]
  },
  {
   "cell_type": "markdown",
   "id": "9e1128ae",
   "metadata": {},
   "source": [
    "# Collecter et enregistrer les métriques des vidéos"
   ]
  },
  {
   "cell_type": "code",
   "execution_count": null,
   "id": "21e937b5",
   "metadata": {},
   "outputs": [],
   "source": [
    "youtube = build(\"youtube\", \"v3\", developerKey=os.getenv(\"YOUTUBE_API_Mono\"))"
   ]
  },
  {
   "cell_type": "code",
   "execution_count": null,
   "id": "abb98dd5",
   "metadata": {},
   "outputs": [],
   "source": [
    "43000/50"
   ]
  },
  {
   "cell_type": "markdown",
   "id": "abc18e0f",
   "metadata": {},
   "source": [
    "- Every call of this function cost only 1 youtube unit\n",
    "- I have as limit 10 000 unit per day but there are about 43 000 videos, i can group them to batchs of 50 videos => 860 batch => 860 unit !"
   ]
  },
  {
   "cell_type": "code",
   "execution_count": null,
   "id": "52c1ca2d",
   "metadata": {},
   "outputs": [],
   "source": [
    "def getMetrics_batch(batch_ids):\n",
    "    \n",
    "    resultats = []\n",
    "    date_releve = date.today().isoformat()\n",
    "    \n",
    "    try:\n",
    "        response = youtube.videos().list(\n",
    "            part=\"statistics\",\n",
    "            id=\",\".join(batch_ids)\n",
    "        ).execute()\n",
    "\n",
    "        for item in response.get(\"items\", []):\n",
    "            stats = item[\"statistics\"]\n",
    "            resultats.append({\n",
    "                \"id_video\": item[\"id\"],\n",
    "                \"date_releve_video\": date_releve,\n",
    "                \"nombre_vues\": int(stats.get(\"viewCount\", 0)),\n",
    "                \"nombre_likes\": int(stats.get(\"likeCount\", 0)) if \"likeCount\" in stats else None\n",
    "            })\n",
    "\n",
    "    except Exception as e:\n",
    "        print(f\"Erreur avec le lot {batch_ids}: {e}\")\n",
    "\n",
    "    return resultats\n",
    "\n",
    "def getMetrics_videos():\n",
    "    conn = psycopg.connect(\n",
    "        dbname=\"youtubestay\",\n",
    "        user=\"postgres\",\n",
    "        password=os.getenv(\"POSTGRE_PASSWORD\"),\n",
    "        host=\"localhost\",\n",
    "        port=\"5432\"\n",
    "    )\n",
    "    cur = conn.cursor()\n",
    "\n",
    "    cur.execute(\"SELECT id_video FROM videos\")\n",
    "    all_ids = [row[0] for row in cur.fetchall()]\n",
    "\n",
    "    for i in range(0, len(all_ids), 50):\n",
    "        batch = all_ids[i:i + 50]\n",
    "        metriques = getMetrics_batch(batch)\n",
    "\n",
    "        for m in metriques:\n",
    "            cur.execute(\"\"\"\n",
    "                INSERT INTO videos_metriques (id_video, date_releve_video, nombre_vues, nombre_likes)\n",
    "                VALUES (%s, %s, %s, %s)\n",
    "                ON CONFLICT (id_video, date_releve_video) DO NOTHING\n",
    "            \"\"\", (m[\"id_video\"], m[\"date_releve_video\"], m[\"nombre_vues\"], m[\"nombre_likes\"]))\n",
    "\n",
    "        conn.commit()\n",
    "        print(f\"Batch {i // 50 + 1} inséré\")\n",
    "\n",
    "    cur.close()\n",
    "    conn.close()\n",
    "\n"
   ]
  },
  {
   "cell_type": "markdown",
   "id": "85f5c059",
   "metadata": {},
   "source": [
    "## Test"
   ]
  },
  {
   "cell_type": "code",
   "execution_count": null,
   "id": "98a354d1",
   "metadata": {},
   "outputs": [],
   "source": [
    "conn = psycopg.connect(\n",
    "    dbname=\"youtubestay\",\n",
    "    user=\"postgres\",\n",
    "    password=os.getenv(\"POSTGRE_PASSWORD\"),\n",
    "    host=\"localhost\",\n",
    "    port=\"5432\"\n",
    ")"
   ]
  },
  {
   "cell_type": "code",
   "execution_count": null,
   "metadata": {},
   "outputs": [],
   "source": [
    "cur = conn.cursor()\n",
    "cur.execute(\"SELECT id_video FROM videos LIMIT 50\")\n",
    "rows = cur.fetchall()\n",
    "cur.close()\n",
    "conn.close()\n",
    "\n",
    "video_ids = [row[0] for row in rows]"
   ]
  },
  {
   "cell_type": "code",
   "execution_count": null,
   "id": "ee8fe4df",
   "metadata": {},
   "outputs": [],
   "source": [
    "results = getMetrics_batch(video_ids)"
   ]
  },
  {
   "cell_type": "code",
   "execution_count": null,
   "id": "05fb43f8",
   "metadata": {},
   "outputs": [],
   "source": [
    "print(len(results))\n",
    "print(results)"
   ]
  },
  {
   "cell_type": "markdown",
   "id": "1ffb4690",
   "metadata": {},
   "source": [
    "## Run all"
   ]
  },
  {
   "cell_type": "code",
   "execution_count": null,
   "id": "684eb3da",
   "metadata": {},
   "outputs": [],
   "source": [
    "getMetrics_videos()"
   ]
  },
  {
   "cell_type": "markdown",
   "id": "b7698ade",
   "metadata": {},
   "source": [
    "# Collecter et enregistrer les commentaires"
   ]
  },
  {
   "cell_type": "code",
   "execution_count": null,
   "id": "4190b8ba",
   "metadata": {},
   "outputs": [],
   "source": [
    "index = 1\n",
    "APIsNames = [\"YOUTUBE_API_Mono\",\n",
    "             \"YOUTUBE_API_Mono1\",\n",
    "             \"YOUTUBE_API_Tecnom\",\n",
    "             \"YOUTUBE_API_Tecnom1\",\n",
    "             \"YOUTUBE_API_Zegaga\",\n",
    "              \"YOUTUBE_API_Zegaga1\",\n",
    "             \"YOUTUBE_API_Nour\",\n",
    "             \"YOUTUBE_API_Nour1\"\n",
    "             ]\n",
    "youtube = build('youtube', 'v3', developerKey=os.getenv(APIsNames[index]))\n",
    "index+=1"
   ]
  },
  {
   "cell_type": "markdown",
   "id": "6a5135fc",
   "metadata": {},
   "source": [
    "- La fonction coûtera au minimum 1 unité par vidéo selon le nombre de commentaires. S’il s’agit de 1 unité par vidéo, on aura alors besoin d’environ 43 000 unités, car on a à peu près 43 000 vidéos.\n"
   ]
  },
  {
   "cell_type": "code",
   "execution_count": null,
   "id": "c7564fe6",
   "metadata": {},
   "outputs": [],
   "source": [
    "import re\n",
    "\n",
    "def get_commentaires_video(id_video):\n",
    "    commentaires = []\n",
    "    global youtube, index\n",
    "    \n",
    "    try:\n",
    "        request = youtube.commentThreads().list(\n",
    "            part=\"snippet,replies\",\n",
    "            videoId=id_video,\n",
    "            maxResults=100,\n",
    "            textFormat=\"plainText\"\n",
    "        )\n",
    "\n",
    "        while request:\n",
    "            response = request.execute()\n",
    "\n",
    "            for item in response.get(\"items\", []):\n",
    "                top_comment_item = item[\"snippet\"][\"topLevelComment\"]\n",
    "                top_snippet = top_comment_item[\"snippet\"]\n",
    "\n",
    "                commentaire_id = top_comment_item[\"id\"]\n",
    "                utilisateur_id = top_snippet.get(\"authorChannelId\", {}).get(\"value\", \"anonyme\")\n",
    "                nom_utilisateur = top_snippet.get(\"authorDisplayName\", \"inconnu\")\n",
    "\n",
    "                commentaires.append({\n",
    "                    \"id_commentaire\": commentaire_id,\n",
    "                    \"contenu\": top_snippet[\"textDisplay\"],\n",
    "                    \"date_commentaire\": top_snippet[\"publishedAt\"][:10],\n",
    "                    \"id_video\": id_video,\n",
    "                    \"id_utilisateur\": utilisateur_id,\n",
    "                    \"nom_utilisateur\": nom_utilisateur,\n",
    "                    \"id_commentaire_parent\": None\n",
    "                })\n",
    "\n",
    "                replies = item.get(\"replies\", {}).get(\"comments\", [])\n",
    "                for reply in replies:\n",
    "                    reply_snippet = reply[\"snippet\"]\n",
    "                    reply_id = reply[\"id\"]\n",
    "                    reply_utilisateur_id = reply_snippet.get(\"authorChannelId\", {}).get(\"value\", \"anonyme\")\n",
    "                    reply_nom_utilisateur = reply_snippet.get(\"authorDisplayName\", \"inconnu\")\n",
    "\n",
    "                    commentaires.append({\n",
    "                        \"id_commentaire\": reply_id,\n",
    "                        \"contenu\": reply_snippet[\"textDisplay\"],\n",
    "                        \"date_commentaire\": reply_snippet[\"publishedAt\"][:10],\n",
    "                        \"id_video\": id_video,\n",
    "                        \"id_utilisateur\": reply_utilisateur_id,\n",
    "                        \"nom_utilisateur\": reply_nom_utilisateur,\n",
    "                        \"id_commentaire_parent\": commentaire_id\n",
    "                    })\n",
    "\n",
    "            request = youtube.commentThreads().list_next(request, response)\n",
    "\n",
    "    except Exception as e:\n",
    "        \n",
    "        match = re.search(r\"'reason':\\s*'([^']+)'\", str(e))\n",
    "        \n",
    "        if match:\n",
    "            if match.group(1) == 'commentsDisabled':\n",
    "                print(f\"Erreur : {match.group(1)}\")\n",
    "                \n",
    "            if match.group(1) == 'quotaExceeded':\n",
    "                youtube = build('youtube', 'v3', developerKey=os.getenv(APIsNames[index]))\n",
    "                print(Style.BRIGHT + Fore.GREEN + f\"api key switched to {APIsNames[index]}\")\n",
    "                index+=1\n",
    "                \n",
    "        else:\n",
    "            print(f\"Erreur lors de la récupération des commentaires : {e}\")\n",
    "\n",
    "    return commentaires\n"
   ]
  },
  {
   "cell_type": "markdown",
   "id": "347eff58",
   "metadata": {},
   "source": [
    "## Test"
   ]
  },
  {
   "cell_type": "code",
   "execution_count": null,
   "id": "da9c4b14",
   "metadata": {},
   "outputs": [],
   "source": [
    "comments = get_commentaires_video('MPHFPu8zAlU')\n",
    "len(comments)"
   ]
  },
  {
   "cell_type": "code",
   "execution_count": null,
   "id": "a9595fa6",
   "metadata": {},
   "outputs": [],
   "source": [
    "comments"
   ]
  },
  {
   "cell_type": "markdown",
   "id": "8c55d0c3",
   "metadata": {},
   "source": [
    "## Run all"
   ]
  },
  {
   "cell_type": "code",
   "execution_count": null,
   "id": "99ce33cb",
   "metadata": {},
   "outputs": [],
   "source": [
    "def getComments():\n",
    "    \n",
    "    conn = psycopg.connect(\n",
    "        dbname=\"youtubestay\",\n",
    "        user=\"postgres\",\n",
    "        password=os.getenv(\"POSTGRE_PASSWORD\"),\n",
    "        host=\"localhost\",\n",
    "        port=\"5432\"\n",
    "    )\n",
    "    cur = conn.cursor()\n",
    "    \n",
    "    cur.execute(\"SELECT * FROM videos order by duree desc;\")\n",
    "    video_ids = [row[0] for row in cur.fetchall()]\n",
    "    \n",
    "    for video_id in tqdm(video_ids[25690:]):\n",
    "        commentaires = get_commentaires_video(video_id)\n",
    "\n",
    "        for commentaire in commentaires:\n",
    "            try:\n",
    "                # Insert user\n",
    "                cur.execute(\"\"\"\n",
    "                    INSERT INTO utilisateurs (id_utilisateur, nom_utilisateur)\n",
    "                    VALUES (%s, %s)\n",
    "                    ON CONFLICT (id_utilisateur) DO NOTHING\n",
    "                \"\"\", (\n",
    "                    commentaire[\"id_utilisateur\"],\n",
    "                    commentaire[\"nom_utilisateur\"]\n",
    "                ))\n",
    "\n",
    "                # Insert comment\n",
    "                cur.execute(\"\"\"\n",
    "                INSERT INTO commentaires (\n",
    "                    id_commentaire,\n",
    "                    contenu,\n",
    "                    date_commentaire,\n",
    "                    id_video,\n",
    "                    id_utilisateur,\n",
    "                    id_commentaire_parent\n",
    "                )\n",
    "                VALUES (%s, %s, %s, %s, %s, %s)\n",
    "                ON CONFLICT (id_commentaire) DO NOTHING\n",
    "            \"\"\", (\n",
    "                commentaire[\"id_commentaire\"],\n",
    "                commentaire[\"contenu\"],\n",
    "                commentaire[\"date_commentaire\"],\n",
    "                commentaire[\"id_video\"],\n",
    "                commentaire[\"id_utilisateur\"],\n",
    "                commentaire[\"id_commentaire_parent\"]\n",
    "            ))\n",
    "            except Exception as e:\n",
    "                print(f\"Skipped comment due to error: {e}\")\n",
    "        \n",
    "        conn.commit()\n",
    "        \n",
    "    cur.close()\n",
    "    conn.close()\n",
    "    \n",
    "# Run : we stoped in video at index 25690\n",
    "# "
   ]
  },
  {
   "cell_type": "code",
   "execution_count": null,
   "id": "9c18917f",
   "metadata": {},
   "outputs": [],
   "source": []
  },
  {
   "cell_type": "code",
   "execution_count": 6,
   "id": "008997c6",
   "metadata": {},
   "outputs": [
    {
     "name": "stderr",
     "output_type": "stream",
     "text": [
      " 98%|█████████▊| 16800/17153 [1:10:57<00:39,  8.91it/s]"
     ]
    },
    {
     "name": "stdout",
     "output_type": "stream",
     "text": [
      "Erreur : commentsDisabled\n"
     ]
    },
    {
     "name": "stderr",
     "output_type": "stream",
     "text": [
      " 99%|█████████▊| 16938/17153 [1:11:22<00:38,  5.53it/s]"
     ]
    },
    {
     "name": "stdout",
     "output_type": "stream",
     "text": [
      "Erreur : commentsDisabled\n"
     ]
    },
    {
     "name": "stderr",
     "output_type": "stream",
     "text": [
      " 99%|█████████▉| 17015/17153 [1:11:34<00:21,  6.44it/s]"
     ]
    },
    {
     "name": "stdout",
     "output_type": "stream",
     "text": [
      "Erreur : commentsDisabled\n"
     ]
    },
    {
     "name": "stderr",
     "output_type": "stream",
     "text": [
      " 99%|█████████▉| 17051/17153 [1:11:40<00:13,  7.71it/s]"
     ]
    },
    {
     "name": "stdout",
     "output_type": "stream",
     "text": [
      "Erreur : commentsDisabled\n"
     ]
    },
    {
     "name": "stderr",
     "output_type": "stream",
     "text": [
      "100%|█████████▉| 17069/17153 [1:11:43<00:11,  7.03it/s]"
     ]
    },
    {
     "name": "stdout",
     "output_type": "stream",
     "text": [
      "Erreur : commentsDisabled\n"
     ]
    },
    {
     "name": "stderr",
     "output_type": "stream",
     "text": [
      "100%|█████████▉| 17138/17153 [1:11:55<00:02,  5.88it/s]"
     ]
    },
    {
     "name": "stdout",
     "output_type": "stream",
     "text": [
      "Erreur : commentsDisabled\n"
     ]
    },
    {
     "name": "stderr",
     "output_type": "stream",
     "text": [
      "100%|█████████▉| 17143/17153 [1:11:56<00:02,  4.91it/s]"
     ]
    },
    {
     "name": "stdout",
     "output_type": "stream",
     "text": [
      "Erreur : commentsDisabled\n"
     ]
    },
    {
     "name": "stderr",
     "output_type": "stream",
     "text": [
      "100%|██████████| 17153/17153 [1:11:57<00:00,  3.97it/s]\n"
     ]
    }
   ],
   "source": [
    "getComments()"
   ]
  },
  {
   "cell_type": "code",
   "execution_count": 1,
   "id": "ebd66c57",
   "metadata": {},
   "outputs": [
    {
     "data": {
      "text/plain": [
       "18.91891891891892"
      ]
     },
     "execution_count": 1,
     "metadata": {},
     "output_type": "execute_result"
    }
   ],
   "source": [
    "7000/370"
   ]
  }
 ],
 "metadata": {
  "kernelspec": {
   "display_name": "agrotube",
   "language": "python",
   "name": "python3"
  },
  "language_info": {
   "codemirror_mode": {
    "name": "ipython",
    "version": 3
   },
   "file_extension": ".py",
   "mimetype": "text/x-python",
   "name": "python",
   "nbconvert_exporter": "python",
   "pygments_lexer": "ipython3",
   "version": "3.10.16"
  }
 },
 "nbformat": 4,
 "nbformat_minor": 5
}
