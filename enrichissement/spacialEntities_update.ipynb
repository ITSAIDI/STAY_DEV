{
 "cells": [
  {
   "cell_type": "code",
<<<<<<< HEAD
   "execution_count": null,
=======
   "execution_count": 13,
>>>>>>> 1edec3e028a0cc5bc488382460109e47bd6732da
   "id": "354aa2c9",
   "metadata": {},
   "outputs": [
    {
     "data": {
      "text/plain": [
       "True"
      ]
     },
     "execution_count": 13,
     "metadata": {},
     "output_type": "execute_result"
    }
   ],
   "source": [
    "import psycopg\n",
    "from tqdm import tqdm \n",
    "from colorama import Style,Fore\n",
    "import os\n",
    "import json\n",
    "from dotenv import load_dotenv\n",
    "import requests\n",
    "\n",
    "load_dotenv()"
   ]
  },
  {
   "cell_type": "code",
   "execution_count": 14,
   "id": "49a84459",
   "metadata": {},
   "outputs": [],
   "source": [
    "def openJson(path):\n",
    "    with open(path, \"r\", encoding=\"utf-8\") as file:\n",
    "        data = json.load(file)\n",
    "    return data\n",
    "\n",
    "def saveJson(path,data):\n",
    "    with open(path, \"w\", encoding=\"utf-8\") as f:\n",
    "       json.dump(data, f, ensure_ascii=False, indent=2)\n",
    "       print(Style.BRIGHT+Fore.GREEN+'\\n json saved'+Style.RESET_ALL)"
   ]
  },
  {
   "cell_type": "markdown",
   "id": "86223f53",
   "metadata": {},
   "source": [
    "# Update DB with the new tables"
   ]
  },
  {
   "cell_type": "code",
   "execution_count": 7,
   "id": "998fdfc4",
   "metadata": {},
   "outputs": [],
   "source": [
    "conn = psycopg.connect(\n",
    "    dbname=\"youtubestay\",\n",
    "    user=\"postgres\",\n",
    "    password=os.getenv(\"POSTGRE_PASSWORD\"),\n",
    "    host=\"localhost\",\n",
    "    port=\"5432\"\n",
    ")\n",
    "\n",
    "\n",
    "cur = conn.cursor()\n",
    "\n",
    "cur.execute(\"\"\"\n",
    "    CREATE TABLE entites_spatiales (\n",
    "        id_entite_spatiale TEXT PRIMARY KEY,\n",
    "        label TEXT NOT NULL,\n",
    "        latitude FLOAT NOT NULL,\n",
    "        longitude FLOAT NOT NULL \n",
    "    )\n",
    "\"\"\")\n",
    "\n",
    "cur.execute(\"\"\"\n",
    "    CREATE TABLE entites_spatiales_videos (\n",
    "        id_entite_spatiale TEXT REFERENCES entites_spatiales(id_entite_spatiale) ON DELETE CASCADE,\n",
    "        id_video TEXT REFERENCES videos(id_video) ON DELETE CASCADE,\n",
    "        PRIMARY KEY (id_video, id_entite_spatiale)\n",
    "    )\n",
    "\"\"\")\n",
    "\n",
    "cur.execute(\"\"\"\n",
    "    CREATE TABLE entites_spatiales_chaines (\n",
    "        id_entite_spatiale TEXT REFERENCES entites_spatiales(id_entite_spatiale) ON DELETE CASCADE,\n",
    "        id_chaine TEXT REFERENCES chaines(id_chaine) ON DELETE CASCADE,\n",
    "        PRIMARY KEY (id_chaine, id_entite_spatiale)\n",
    "    )\n",
    "\"\"\")\n",
    "\n",
    "\n",
    "conn.commit()\n",
    "cur.close()\n",
    "conn.close()\n"
   ]
  },
  {
   "cell_type": "markdown",
   "id": "9a2bf7d5",
   "metadata": {},
   "source": [
    "# Fill the spacial_entities_videos table"
   ]
  },
  {
   "cell_type": "code",
   "execution_count": 2,
   "id": "4095710c",
   "metadata": {},
   "outputs": [],
   "source": [
    "from langchain_ollama import ChatOllama\n",
    "from langchain.prompts import ChatPromptTemplate, SystemMessagePromptTemplate, HumanMessagePromptTemplate\n",
    "\n",
    "llm = ChatOllama(model=\"llama3.2:3b\")\n",
    "\n",
    "system_template = \"\"\"\n",
    "Tu es un extracteur d'entités géographiques françaises.\n",
    "À partir d’un texte donné, identifie uniquement les **villes**, **communes**, **villages** ou **quartiers** situés en France.\n",
    "Ne prends **pas** en compte :\n",
    "- les noms de pays (ex: \"France\"),\n",
    "- les noms de personnes,\n",
    "- les noms de chaînes YouTube, de plateformes (ex: YouTube, Tipeee),\n",
    "- les noms imaginaires ou poétiques.\n",
    "\n",
    "Retourne une **liste Python**, en minuscules, sans doublons, contenant uniquement des noms de lieux réels en France.\n",
    "Pas d'explication.\n",
    "\"\"\"\n",
    "\n",
    "user_template = \"Contexte : {contexte}\"\n",
    "\n",
    "system_message = SystemMessagePromptTemplate.from_template(system_template)\n",
    "user_message = HumanMessagePromptTemplate.from_template(user_template)\n",
    "\n",
    "chat_prompt = ChatPromptTemplate.from_messages([system_message, user_message])\n"
   ]
  },
  {
   "cell_type": "markdown",
   "id": "66227fb6",
   "metadata": {},
   "source": [
    "{\n",
    "    id_video = '',\n",
    "    titre : '',\n",
    "    description:'',\n",
    "    tags:''\n",
    "    +\n",
    "    output : [\n",
    "            {\n",
    "            ent : Ent1\n",
    "            lat :\n",
    "            lon : },\n",
    "            {\n",
    "            ent : Ent2\n",
    "            lat :\n",
    "            lon : },\n",
    "        ...\n",
    "    ]\n",
    "}"
   ]
  },
  {
   "cell_type": "code",
   "execution_count": 17,
   "id": "52295510",
   "metadata": {},
   "outputs": [],
   "source": [
    "def getContext(title,description,tags):\n",
    "    videoContext = ''\n",
    "    videoContext+=title\n",
    "    videoContext+= '\\n'+description\n",
    "    videoContext += '\\n'+ ', '.join(tags)\n",
    "    return videoContext\n",
    "\n",
    "def getSpacialEntities(context):\n",
    "    messages = chat_prompt.format_messages(contexte=context)\n",
    "    response = llm.invoke(messages)\n",
    "    \n",
    "    try:\n",
    "        entities = eval(response.content.strip())\n",
    "        if isinstance(entities, list):\n",
    "            return [e.lower().strip() for e in entities if isinstance(e, str)]\n",
    "    except:\n",
    "        pass\n",
    "    return []\n",
    "\n",
    "def getGeocoding(entity):\n",
    "    url = \"https://nominatim.openstreetmap.org/search\"\n",
    "    params = {\n",
    "        \"q\": entity + \", France\",\n",
    "        \"format\": \"json\",\n",
    "        \"limit\": 1\n",
    "    }\n",
    "    headers = {\n",
    "        \"User-Agent\": \"geo-entity-extractor/1.0\"\n",
    "    }\n",
    "\n",
    "    try:\n",
    "        response = requests.get(url, params=params, headers=headers)\n",
    "        response.raise_for_status()\n",
    "        data = response.json()\n",
    "        if data:\n",
    "            lat = float(data[0][\"lat\"])\n",
    "            lon = float(data[0][\"lon\"])\n",
    "            return {'lat':lat,\n",
    "                    'lon':lon}\n",
    "    except Exception as e:\n",
    "        print(f\"Erreur pour l'entité '{entity}': {e}\")\n",
    "    \n",
    "    return None\n",
    "\n",
    "def runAll(jsonfile):\n",
    "    videos = openJson(jsonfile)\n",
    "    for video in videos:\n",
    "        videoContext = getContext(video['titre'],video['description'],video['tags'])\n",
    "        videoSpacialEntities = getSpacialEntities(videoContext)\n",
    "\n",
    "        if len(videoSpacialEntities) > 0:\n",
    "            output = []\n",
    "            for ent in videoSpacialEntities:\n",
    "                geocoding = getGeocoding(ent)\n",
    "                if geocoding :\n",
    "                    geocoding['ent']=ent\n",
    "                    output.append(geocoding)\n",
    "            if len(output) >0 :\n",
    "                video['output'] = output"
   ]
  },
  {
   "cell_type": "markdown",
   "id": "ebfb943e",
   "metadata": {},
   "source": [
    "- Test"
   ]
  },
  {
   "cell_type": "code",
   "execution_count": 4,
   "id": "1382096c",
   "metadata": {},
   "outputs": [
    {
     "name": "stdout",
     "output_type": "stream",
     "text": [
      "Autonomie alimentaire.  Être autosuffisant sur petite surface !\n",
      "\n",
      "Découvrez le Pirate de la Permaculture et son autonomie alimentaire sur toute petite surface. Picro arrive à être autosuffisant sur une surface d'à peine 800m2... de quoi rêver.\n",
      "\n",
      "Adhérez à cette chaîne pour obtenir des avantages :\n",
      "https://www.youtube.com/channel/UC9Q8WeyCb3yxySC3P3mGpBw/join\n",
      "Pour me soutenir, suivez ce lien : https://fr.tipeee.com/le-jardin-d-emerveille\n",
      "\n",
      "Au sommaire :\n",
      "0:00 - Présentations\n",
      "0:53 - Quelles productions\n",
      "4:24 - Comment calculer son autosuffisance !\n",
      "5:00 - Réduire sa dépendance énergétique\n",
      "6:20 - Visite du lieu\n",
      "8:08 - Surface et organisation de la production\n",
      "10:58 - Gestion de l'eau\n",
      "11:51 - Jardin forêt ?\n",
      "13:24 - Le pirate Picro et sa chaîne YouTube.\n",
      "\n",
      "La chaîne YouTube de Picro : https://www.youtube.com/user/piiicro\n",
      "\n",
      "Pour me soutenir, suivez ce lien : https://fr.tipeee.com/le-jardin-d-emerveille\n",
      "\n",
      "Merci à vous tous les permapotes d'avoir regardé cette vidéo. :)\n",
      "Cliquez sur ce lien pour vous abonner : \n",
      "https://www.youtube.com/channel/UC9Q8WeyCb3yxySC3P3mGpBw\n",
      "\n",
      "Autonomie alimentaire. Être autosuffisant sur petite surface !, permaculture, plantes, jardin, biodiversité, agroécologie, potager, des merveilles, Autonomie alimentaire, Produire sa nourriture, comment créer son potager bio, comment démarrer son potager, comment démarrer un potager, comment faire un potager bio, comment préparer son potager, créer son jardin, créer son potager, faire un potager, etre autosuffisant, Autosuffisant sur petite surface\n"
     ]
    }
   ],
   "source": [
    "title = \"Autonomie alimentaire.  Être autosuffisant sur petite surface !\"\n",
    "description = \"\"\"\n",
    "Découvrez le Pirate de la Permaculture et son autonomie alimentaire sur toute petite surface. Picro arrive à être autosuffisant sur une surface d'à peine 800m2... de quoi rêver.\n",
    "\n",
    "Adhérez à cette chaîne pour obtenir des avantages :\n",
    "https://www.youtube.com/channel/UC9Q8WeyCb3yxySC3P3mGpBw/join\n",
    "Pour me soutenir, suivez ce lien : https://fr.tipeee.com/le-jardin-d-emerveille\n",
    "\n",
    "Au sommaire :\n",
    "0:00 - Présentations\n",
    "0:53 - Quelles productions\n",
    "4:24 - Comment calculer son autosuffisance !\n",
    "5:00 - Réduire sa dépendance énergétique\n",
    "6:20 - Visite du lieu\n",
    "8:08 - Surface et organisation de la production\n",
    "10:58 - Gestion de l'eau\n",
    "11:51 - Jardin forêt ?\n",
    "13:24 - Le pirate Picro et sa chaîne YouTube.\n",
    "\n",
    "La chaîne YouTube de Picro : https://www.youtube.com/user/piiicro\n",
    "\n",
    "Pour me soutenir, suivez ce lien : https://fr.tipeee.com/le-jardin-d-emerveille\n",
    "\n",
    "Merci à vous tous les permapotes d'avoir regardé cette vidéo. :)\n",
    "Cliquez sur ce lien pour vous abonner : \n",
    "https://www.youtube.com/channel/UC9Q8WeyCb3yxySC3P3mGpBw\n",
    "\"\"\"\n",
    "\n",
    "tags = [\"Autonomie alimentaire. Être autosuffisant sur petite surface !\",\"permaculture\",\"plantes\",\"jardin\",\"biodiversité\",\"agroécologie\",\"potager\",\"des merveilles\",\"Autonomie alimentaire\",\"Produire sa nourriture\",\"comment créer son potager bio\",\"comment démarrer son potager\",\"comment démarrer un potager\",\"comment faire un potager bio\",\"comment préparer son potager\",\"créer son jardin\",\"créer son potager\",\"faire un potager\",\"etre autosuffisant\",\"Autosuffisant sur petite surface\"]\n",
    "\n",
    "videoTestContexte = getContext(title, description, tags)\n",
    "\n",
    "print(videoTestContexte)\n"
   ]
  },
  {
   "cell_type": "code",
   "execution_count": 8,
   "metadata": {},
   "outputs": [
    {
     "data": {
      "text/plain": [
       "['piiicro', 'picro']"
      ]
     },
     "execution_count": 8,
     "metadata": {},
     "output_type": "execute_result"
    }
   ],
   "source": [
    "# Exemple de texte avec des noms de lieux\n",
    "texte_contenu = \"\"\"\n",
    "Lors de mon voyage en Provence, j’ai visité Marseille, le quartier du Panier, Aix-en-Provence \n",
    "et un petit village appelé Eygalières. Ensuite, nous sommes allés à Nice et dans le Vieux-Nice.\n",
    "\"\"\"\n",
    "getSpacialEntities(videoTestContexte)"
   ]
  },
  {
   "cell_type": "code",
   "execution_count": 16,
   "metadata": {},
   "outputs": [
    {
     "data": {
      "text/plain": [
       "{'lat': 48.8588897, 'lon': 2.320041}"
      ]
     },
     "execution_count": 16,
     "metadata": {},
     "output_type": "execute_result"
    }
   ],
   "source": [
    "getGeocoding('paris')"
   ]
  },
  {
   "cell_type": "markdown",
   "id": "a5c70381",
   "metadata": {},
   "source": [
    "# Get a json"
   ]
  },
  {
   "cell_type": "code",
   "execution_count": null,
   "id": "ba8dff23",
   "metadata": {},
   "outputs": [],
   "source": [
    "conn = psycopg.connect(\n",
    "    dbname=\"youtubestay\",\n",
    "    user=\"postgres\",\n",
    "    password=os.getenv(\"POSTGRE_PASSWORD\"),\n",
    "    host=\"localhost\",\n",
    "    port=\"5432\"\n",
    ")\n",
    "\n",
    "cur = conn.cursor()\n",
    "\n",
    "cur.execute(\"SELECT id_video, titre, description, tags FROM videos;\")\n",
    "rows = cur.fetchall()\n",
    "videos = []\n",
    "\n",
    "for row in rows:\n",
    "    id_video, titre, description, tags = row\n",
    "    video_obj = {\n",
    "                    \"id_video\": id_video,\n",
    "                    \"titre\": titre,\n",
    "                    \"description\": description,\n",
    "                    \"tags\": tags\n",
    "                }\n",
    "    videos.append(video_obj)"
   ]
  },
  {
   "cell_type": "code",
   "execution_count": null,
   "metadata": {},
   "outputs": [],
   "source": [
    "len(videos)"
   ]
  },
  {
   "cell_type": "code",
   "execution_count": null,
   "id": "622937f3",
   "metadata": {},
   "outputs": [],
   "source": []
  },
  {
   "cell_type": "code",
   "execution_count": null,
   "metadata": {},
   "outputs": [],
   "source": []
  },
  {
   "cell_type": "code",
   "execution_count": null,
   "id": "cd7aa2f4",
   "metadata": {},
   "outputs": [],
   "source": []
  },
  {
   "cell_type": "code",
   "execution_count": null,
   "metadata": {},
   "outputs": [],
   "source": []
  },
  {
   "cell_type": "code",
   "execution_count": null,
   "id": "1f750c8b",
   "metadata": {},
   "outputs": [],
   "source": []
  }
 ],
 "metadata": {
  "kernelspec": {
   "display_name": "agrotube",
   "language": "python",
   "name": "python3"
  },
  "language_info": {
   "codemirror_mode": {
    "name": "ipython",
    "version": 3
   },
   "file_extension": ".py",
   "mimetype": "text/x-python",
   "name": "python",
   "nbconvert_exporter": "python",
   "pygments_lexer": "ipython3",
   "version": "3.10.16"
  }
 },
 "nbformat": 4,
 "nbformat_minor": 5
}
